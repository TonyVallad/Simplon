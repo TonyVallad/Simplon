{
 "cells": [
  {
   "cell_type": "markdown",
   "id": "3921067b-d53b-49d1-a9ee-64e80d43eed8",
   "metadata": {
    "tags": []
   },
   "source": [
    "# Introduction à la Régression avec Scikit-Learn"
   ]
  },
  {
   "cell_type": "markdown",
   "id": "555886d1-d776-46ef-a399-339ad3ce68fc",
   "metadata": {},
   "source": [
    "### Introduction\n",
    "\n",
    "Dans cette séance, nous allons explorer la **régression**, une tâche centrale en Machine Learning supervisé qui consiste à prédire une valeur continue (par exemple, le prix d’une maison ou le revenu annuel d’un individu) en fonction de caractéristiques observables. La régression est utilisée dans de nombreux domaines comme la finance, l'immobilier et les prévisions météorologiques, car elle permet de prédire une valeur numérique en fonction d'autres variables.\n",
    "\n",
    "Pour illustrer les concepts clés de la régression, nous utiliserons le **California Housing Dataset** de `scikit-learn`. Ce dataset contient des informations sur des logements en Californie, comme leur taille, leur emplacement, ou leur proximité de services publics, et servira à prédire la valeur médiane des logements dans une région donnée.\n",
    "\n",
    "### Objectifs de la Séance\n",
    "\n",
    "- Comprendre les concepts théoriques de la régression en apprentissage supervisé.\n",
    "- Suivre un workflow de Machine Learning pour entraîner un modèle de régression.\n",
    "- Appliquer ces concepts en utilisant des modèles de régression sur un dataset réel.\n",
    "- Évaluer la performance du modèle et interpréter ses résultats.\n",
    "\n",
    "À la fin de cette séance, vous aurez acquis une compréhension des étapes nécessaires pour développer un modèle de régression en Machine Learning, depuis le prétraitement des données jusqu’à l’évaluation de ses performances."
   ]
  },
  {
   "cell_type": "markdown",
   "id": "3a09e754-ad27-43a4-9c48-21178a1bfe1f",
   "metadata": {
    "jp-MarkdownHeadingCollapsed": true,
    "tags": []
   },
   "source": [
    "---\n",
    "## Rappel : L'Apprentissage Supervisé"
   ]
  },
  {
   "cell_type": "markdown",
   "id": "1d611a55-fd96-4fc7-bcc0-9d434a5de9f1",
   "metadata": {
    "tags": []
   },
   "source": [
    "\n",
    "L’**apprentissage supervisé** est une méthode où un modèle est entraîné sur des données étiquetées, c'est-à-dire pour lesquelles les résultats attendus sont déjà connus. Le modèle apprend ainsi les relations entre les caractéristiques (features) et la cible (target), de façon à pouvoir prédire cette cible pour de nouvelles données.\n",
    "\n",
    "### Types de Tâches Supervisées\n",
    "\n",
    "- **Classification** : Prédire une **catégorie** ou **classe** (ex. prédire l'espèce d'une fleur).\n",
    "- **Régression** : Prédire une **valeur continue** (ex. estimer le revenu annuel d'un individu).\n",
    "\n",
    "### Composantes de l’Apprentissage Supervisé\n",
    "\n",
    "Les principales composantes d'un dataset en apprentissage supervisé sont :\n",
    "- **Features (Caractéristiques)** : Variables descriptives qui permettent de prédire la cible.\n",
    "- **Target (Cible)** : Variable que le modèle cherche à prédire.\n",
    "- **Training Data (Données d’Entraînement)** : Sous-ensemble utilisé pour entraîner le modèle.\n",
    "- **Test Data (Données de Test)** : Sous-ensemble utilisé pour évaluer le modèle et mesurer sa capacité de généralisation.\n",
    "\n",
    "\n",
    "## **Workflow Général en Apprentissage Supervisé**\n",
    "\n",
    "Le workflow d'un projet de Machine Learning supervisé comporte plusieurs étapes. Voici une représentation visuelle du processus :\n",
    "\n",
    "\n",
    "```markdown\n",
    "\n",
    "   ┌───────────────┐      ┌───────────────┐      ┌───────────────┐       ┌───────────────┐\n",
    "   │   Dataset     │ ---> │   Exploration │ ---> │ Preprocessing │ --->  │   Splitting   │ \n",
    "   └───────────────┘      └───────────────┘      └───────────────┘       └───────────────┘  \n",
    "                                                                               │                       \n",
    "                                                                  └─────────────────────────────┘\n",
    "                                                                      │                   │ \n",
    "                                                                      ▼                   ▼\n",
    "                                                            ┌───────────────┐         ┌───────────────┐\n",
    "                                                            │ Training Data │         │   Test Data   │\n",
    "                                                            └───────────────┘         └───────────────┘\n",
    "                                                                   └─────────────────────────────┘\n",
    "                                                                       │                   │ \n",
    "                                                                       ▼                   ▼\n",
    "                                                           ┌────────────────┐          ┌──────────────────┐\n",
    "                                                           │ Model Training │          │ Model Evaluation │\n",
    "                                                           │  (sur Train)   │          │    (sur Test)    │\n",
    "                                                           └────────────────┘          └──────────────────┘\n",
    "\n",
    "\n",
    "\n",
    "\n",
    "\n",
    "```\n",
    "\n"
   ]
  },
  {
   "cell_type": "markdown",
   "id": "fc8cf0e1-b388-49d8-8ad0-53178756f45d",
   "metadata": {
    "tags": []
   },
   "source": [
    "## Rappel : Syntaxe Générale en Python avec Scikit-Learn"
   ]
  },
  {
   "cell_type": "markdown",
   "id": "cdb0f5f6-9bf5-428b-bb1c-a30bf1d8991a",
   "metadata": {},
   "source": [
    "Pour implémenter un modèle d'apprentissage supervise de classification ou de regression en Python avec `scikit-learn`, nous suivrons les étapes suivantes :\n",
    "\n",
    "\n",
    "```python\n",
    "# 1. Importer le modèle\n",
    "from sklearn.model import ModelClass  # Ex : LinearRegression, Ridge, Lasso\n",
    "\n",
    "# 2. Diviser les données en ensembles d'entraînement et de test\n",
    "from sklearn.model_selection import train_test_split\n",
    "X_train, X_test, y_train, y_test = train_test_split(X, y, test_size=0.2, random_state=42)\n",
    "\n",
    "# 3. Instancier et entraîner le modèle\n",
    "model = ModelClass()\n",
    "model.fit(X_train, y_train)\n",
    "\n",
    "# 4. Prédire les résultats\n",
    "y_pred = model.predict(X_test)\n",
    "\n",
    "# 5. Évaluer le modèle avec des métriques de régression\n",
    "from sklearn import metrics\n",
    "score = metrics.mean_squared_error(y_test, y_pred)  # Exemple de métrique de régression\n",
    "```\n",
    "\n",
    "#### Explication des Étapes\n",
    "\n",
    "1. **Importer le modèle** :\n",
    "   - Importez la classe de modèle de régression depuis `scikit-learn` (par exemple, `LinearRegression`, `Ridge` ou `Lasso`).\n",
    "\n",
    "2. **Diviser les données (`train_test_split`)** :\n",
    "   - **Pourquoi diviser ?** Cela permet de tester la capacité du modèle à généraliser sur des données nouvelles. Habituellement, on utilise 80 % des données pour l’entraînement et 20 % pour le test.\n",
    "   - **Paramètres importants** :\n",
    "     - `test_size=0.2` : Affecte 20 % des données à l’ensemble de test et 80 % à l’entraînement.\n",
    "     - `random_state=42` : Assure que la division est reproductible. Fixer `random_state` permet d’obtenir la même division à chaque exécution.\n",
    "\n",
    "3. **Instancier et entraîner le modèle (`.fit()`)** :\n",
    "   - **Instanciation** : `model = ModelClass()` crée le modèle avec les paramètres par défaut ou en spécifiant des paramètres spécifiques.\n",
    "   - **Entraînement** : `model.fit(X_train, y_train)` permet au modèle d’apprendre les relations dans les données d’entraînement.\n",
    "\n",
    "4. **Prédire les résultats (`.predict()`)** :\n",
    "   - `model.predict(X_test)` génère les prédictions `y_pred` pour l’ensemble de test `X_test`, permettant de les comparer aux valeurs réelles `y_test`.\n",
    "\n",
    "5. **Évaluer le modèle (métriques de `metrics`)** :\n",
    "   - `metrics` propose des fonctions pour évaluer les performances du modèle. En régression, on utilise souvent des métriques telles que :\n",
    "     - `mean_squared_error` (erreur quadratique moyenne)\n",
    "     - `mean_absolute_error` (erreur absolue moyenne)\n",
    "     - `r2_score` (coefficient de détermination R²)"
   ]
  },
  {
   "cell_type": "markdown",
   "id": "e43220ba-51fb-4cc5-be4a-298a1db4452a",
   "metadata": {
    "tags": []
   },
   "source": [
    "---\n",
    "\n",
    "## Introduction à la Régression"
   ]
  },
  {
   "cell_type": "markdown",
   "id": "4a7d0a8c-9dc8-4b2e-869c-8ed9cee03ba8",
   "metadata": {},
   "source": [
    "\n",
    "La **régression** est une technique d'apprentissage supervisé en Machine Learning utilisée pour prédire une valeur continue, comme un prix, une température, ou une durée, en fonction de caractéristiques observables. Contrairement à la classification, où la cible est une catégorie, la régression vise à établir une relation entre des caractéristiques et une cible numérique.\n",
    "\n",
    "<img src=\"regression.png\" alt=\"regression.png\" width=\"400\" height=\"300\">\n",
    "\n",
    "### Exemple d’Applications Courantes de la Régression\n",
    "\n",
    "1. **Immobilier** : Prédire le prix d'une maison en fonction de sa surface, de sa localisation, et du nombre de chambres.\n",
    "2. **Prévisions météorologiques** : Estimer la température ou les précipitations pour les jours à venir.\n",
    "3. **Analyse des ventes** : Prédire les ventes d'un produit en fonction des dépenses en publicité et des caractéristiques démographiques.\n",
    "\n",
    "\n",
    "### Exemple de Régression\n",
    "\n",
    "Imaginons un modèle de régression destiné à prédire la **consommation de carburant** d'une voiture (en L/100 km) en fonction de caractéristiques telles que la cylindrée, la puissance et le poids. Le modèle va analyser ces caractéristiques pour apprendre à estimer la consommation d’une nouvelle voiture.\n",
    "\n",
    "**Exemple de Dataset :**\n",
    "\n",
    "| Cylindrée (L) | Puissance (HP) | Poids (kg) | Consommation (L/100 km) |\n",
    "|---------------|----------------|------------|--------------------------|\n",
    "| 1.8           | 130            | 1200       | 7.5                      |\n",
    "| 2.0           | 150            | 1400       | 8.5                      |\n",
    "| 2.2           | 170            | 1600       | 9.5                      |\n",
    "| 1.6           | 110            | 1000       | 6.8                      |\n",
    "\n",
    "Dans cet exemple simplifié, le modèle apprend que des caractéristiques comme une cylindrée plus importante ou un poids plus élevé tendent à être associées à une consommation de carburant plus élevée. Il peut ainsi utiliser ces relations pour estimer la consommation d’une nouvelle voiture en fonction de ses caractéristiques techniques."
   ]
  },
  {
   "cell_type": "markdown",
   "id": "d9a2a96e-eb08-4586-8da4-2cbe0d08f9b8",
   "metadata": {
    "jp-MarkdownHeadingCollapsed": true,
    "tags": []
   },
   "source": [
    "---\n",
    "## Introduction au California Housing Dataset"
   ]
  },
  {
   "cell_type": "markdown",
   "id": "4f8b456b-e637-40a4-b355-e715b1ea37eb",
   "metadata": {
    "jp-MarkdownHeadingCollapsed": true,
    "tags": []
   },
   "source": [
    "Le **California Housing Dataset** est un jeu de données classique en Machine Learning utilisé pour des tâches de régression. Il contient des informations socio-économiques et géographiques de districts en Californie, collectées lors du recensement de 1990. \n",
    "\n",
    "### Objectif\n",
    "\n",
    "L'objectif est de **prédire la valeur médiane des logements** dans chaque district en fonction de diverses caractéristiques comme le revenu médian, l'âge médian des maisons, la population, la densité de logements, ainsi que la localisation géographique.\n",
    "\n",
    "### Caractéristiques Principales\n",
    "\n",
    "Les caractéristiques disponibles incluent :\n",
    "- **Revenu médian des ménages**\n",
    "- **Âge médian des maisons**\n",
    "- **Nombre moyen de pièces et de chambres par logement**\n",
    "- **Population totale du district**\n",
    "- **Latitude et longitude** géographiques\n",
    "\n",
    "Cette base de données nous permet d'explorer les facteurs influençant les valeurs immobilières et de construire un modèle capable d'estimer les prix de l'immobilier en fonction de données démographiques et environnementales."
   ]
  },
  {
   "cell_type": "markdown",
   "id": "9bd5ac26-9a34-41dd-891d-cf61c988ae25",
   "metadata": {
    "jp-MarkdownHeadingCollapsed": true,
    "tags": []
   },
   "source": [
    "---\n",
    "## Étape 1 : Chargement et Transformation du California Housing Dataset"
   ]
  },
  {
   "cell_type": "markdown",
   "id": "fd42d3ad-63ba-4a39-8dbe-dd437fcb7975",
   "metadata": {
    "tags": []
   },
   "source": [
    "**Objectif** : Charger le dataset California Housing disponible dans `scikit-learn` et le transformer en un DataFrame `pandas` pour faciliter la manipulation et l'exploration.\n",
    "\n",
    "#### Instructions\n",
    "\n",
    "1. **Charger le Dataset**  \n",
    "   - Le dataset California Housing est inclus dans `scikit-learn`. Utilisez la fonction `fetch_california_housing()` pour charger les données."
   ]
  },
  {
   "cell_type": "code",
   "execution_count": null,
   "id": "f65bdc83-1b59-48e4-8816-e1ab2e79ab8a",
   "metadata": {},
   "outputs": [],
   "source": [
    "# Insérez votre code ici pour charger le California Housing Dataset"
   ]
  },
  {
   "cell_type": "markdown",
   "id": "fbe848a0-4108-4eef-ac30-831a2d272a46",
   "metadata": {},
   "source": [
    "2. **Transformer en DataFrame**  \n",
    "   - Une fois le dataset chargé, transformez les données en un DataFrame `pandas`. \n",
    "   - Assurez-vous que les colonnes du DataFrame utilisent les noms de caractéristiques disponibles dans le dataset."
   ]
  },
  {
   "cell_type": "code",
   "execution_count": null,
   "id": "4322d8bf-e080-4a42-bb9b-4878a5960f3b",
   "metadata": {},
   "outputs": [],
   "source": [
    "# Insérez votre code ici pour transformer les données en DataFrame"
   ]
  },
  {
   "cell_type": "markdown",
   "id": "84d1fb7e-f3ce-476c-bb88-c77de274967c",
   "metadata": {
    "jp-MarkdownHeadingCollapsed": true,
    "tags": []
   },
   "source": [
    "---\n",
    "## Étape 2 : Exploration des Données (EDA)"
   ]
  },
  {
   "cell_type": "markdown",
   "id": "c729219d-03c7-4f8a-9ded-4b85d982bb08",
   "metadata": {},
   "source": [
    "**Objectif** : Mener une exploration initiale du California Housing Dataset pour comprendre sa structure, vérifier la présence de valeurs manquantes, analyser la distribution des caractéristiques et observer les relations potentielles entre elles.\n",
    "\n",
    "#### Instructions\n",
    "\n",
    "1. **Aperçu de la Structure des Données**\n",
    "   - **Affichez les premières lignes** du DataFrame pour avoir un aperçu des données.\n",
    "   - **Vérifiez les types de données** et la présence éventuelle de valeurs manquantes."
   ]
  },
  {
   "cell_type": "code",
   "execution_count": null,
   "id": "861f400d-796c-4868-abd7-2224411b0d1a",
   "metadata": {},
   "outputs": [],
   "source": [
    "# Insérez votre code ici pour afficher les premières lignes et vérifier la structure du DataFrame"
   ]
  },
  {
   "cell_type": "markdown",
   "id": "3aace3e7-3bb5-4748-bc3d-87f6d7c992f3",
   "metadata": {},
   "source": [
    "> **Questions** :\n",
    "> - Quels types de variables sont présentes dans le dataset (numériques, catégorielles) ?\n",
    "> - Voyez-vous des valeurs manquantes dans le dataset ? Comment pourriez-vous les traiter si nécessaire ?\n",
    "   "
   ]
  },
  {
   "cell_type": "markdown",
   "id": "5b95c026-0aea-4131-9df1-0dd2af7672b7",
   "metadata": {},
   "source": [
    "2. **Statistiques Descriptives**\n",
    "   - **Calculez les statistiques descriptives** des caractéristiques pour obtenir des informations sur leur moyenne, médiane, écart-type, valeurs minimales et maximales.\n",
    "   - Cette étape permet d’identifier les valeurs extrêmes, les moyennes et la variation de chaque caractéristique.\n",
    "   "
   ]
  },
  {
   "cell_type": "code",
   "execution_count": null,
   "id": "94b44470-6ed8-4a54-b1a3-a98f63fb5aef",
   "metadata": {},
   "outputs": [],
   "source": [
    "# Insérez votre code ici pour calculer et afficher les statistiques descriptives du DataFrame"
   ]
  },
  {
   "cell_type": "markdown",
   "id": "f1f16dbf-3b36-48f5-97a5-627bfd1936ff",
   "metadata": {},
   "source": [
    "> **Questions** :\n",
    "> - Quelles caractéristiques présentent la plus grande variation ? Cela pourrait-il indiquer des outliers ou des échelles différentes entre les variables ?\n",
    "> - Y a-t-il des caractéristiques avec des moyennes ou médianes très différentes ? Que cela pourrait-il signifier ?"
   ]
  },
  {
   "cell_type": "markdown",
   "id": "407d2f0d-a9e3-4057-a5a4-ff758b747fec",
   "metadata": {},
   "source": [
    "3. **Distribution des Caractéristiques**\n",
    "   - **Visualisez la distribution** de chaque caractéristique. Utilisez des histogrammes ou des boxplots pour observer la répartition des valeurs et identifier les valeurs extrêmes ou la symétrie/asymétrie des données."
   ]
  },
  {
   "cell_type": "code",
   "execution_count": null,
   "id": "1325e8dd-22af-4153-bcb4-f31b7610abd8",
   "metadata": {},
   "outputs": [],
   "source": [
    " # Insérez votre code ici pour visualiser la distribution des caractéristiques"
   ]
  },
  {
   "cell_type": "markdown",
   "id": "68d0a054-829d-4f1b-b213-29241b0a3b7d",
   "metadata": {},
   "source": [
    "> **Questions** :\n",
    "> - Les distributions sont-elles symétriques ou asymétriques ? Quelles caractéristiques montrent une distribution qui pourrait influencer la performance du modèle ?\n",
    "> - Quelles caractéristiques contiennent des outliers potentiels ? Comment cela pourrait-il affecter l’entraînement du modèle ?\n",
    "   "
   ]
  },
  {
   "cell_type": "markdown",
   "id": "db571c7b-6da7-47f2-b003-0a3d35abfd40",
   "metadata": {},
   "source": [
    "4. **Analyse de la Corrélation**\n",
    "   - **Calculez la matrice de corrélation** pour observer les relations linéaires entre les caractéristiques. Utilisez une heatmap pour une visualisation plus claire.\n",
    "   - Portez une attention particulière à la corrélation entre chaque caractéristique et la cible (`MedHouseVal`) pour identifier les variables potentiellement les plus influentes."
   ]
  },
  {
   "cell_type": "code",
   "execution_count": null,
   "id": "d62ccb3d-f6be-43eb-84c4-4d4e1717fff8",
   "metadata": {},
   "outputs": [],
   "source": [
    "# Insérez votre code ici pour calculer et visualiser la matrice de corrélation"
   ]
  },
  {
   "cell_type": "markdown",
   "id": "fdfd44eb-31ac-4d2b-a341-43b9d7652a61",
   "metadata": {},
   "source": [
    "> **Questions** :\n",
    "> - Quelles caractéristiques semblent fortement corrélées entre elles ? Cela pourrait-il mener à de la redondance dans les données ?\n",
    "> - Quelles sont les caractéristiques les plus corrélées avec la cible (`MedHouseVal`) ? Pensez-vous que ces caractéristiques auront un impact plus fort sur les prédictions du modèle ?"
   ]
  },
  {
   "cell_type": "markdown",
   "id": "9a818540-5334-430f-91c2-fedbc8f9d9f1",
   "metadata": {},
   "source": [
    "5. **Relation entre les Caractéristiques et la Cible**\n",
    "   - **Visualisez la relation** entre la cible (`MedHouseVal`) et quelques caractéristiques pertinentes identifiées lors de l’analyse de corrélation (ex. : revenu médian des ménages, âge médian des maisons).\n",
    "   - Utilisez des scatter plots ou un `pairplot` pour observer comment la cible varie en fonction des caractéristiques principales.\n",
    "   - **Explorez la localisation des districts** en fonction de la latitude et de la longitude. Utilisez un scatter plot avec la valeur médiane des logements (`MedHouseVal`) comme code couleur pour visualiser la répartition géographique des valeurs."
   ]
  },
  {
   "cell_type": "code",
   "execution_count": null,
   "id": "e127e300-6f87-4763-b554-82afda93b60b",
   "metadata": {},
   "outputs": [],
   "source": [
    "# Insérez votre code ici pour visualiser les relations entre la cible et certaines caractéristiques"
   ]
  },
  {
   "cell_type": "markdown",
   "id": "04a5731f-7d76-48da-ae06-ce10de0e8a14",
   "metadata": {},
   "source": [
    "> **Questions** :\n",
    "> - Les graphiques montrent-ils des relations claires (linéaires, non linéaires) entre certaines caractéristiques et la cible ?\n",
    "> - En observant ces relations, quelles caractéristiques semblent les plus influentes sur le prix des logements ?\n",
    "> - **Pour les coordonnées géographiques** : La localisation géographique (latitude et longitude) semble-t-elle avoir un impact sur la valeur des logements ? Observez-vous des zones où les prix sont systématiquement plus élevés ou plus bas ?"
   ]
  },
  {
   "cell_type": "markdown",
   "id": "fcdd4199-c49f-4332-809e-e4b4d04fa7e3",
   "metadata": {
    "jp-MarkdownHeadingCollapsed": true,
    "tags": []
   },
   "source": [
    "---\n",
    "\n",
    "## Étape 3 : Prétraitement des Données"
   ]
  },
  {
   "cell_type": "markdown",
   "id": "79cd2022-7d34-4b3a-9579-d7f4dbc782c9",
   "metadata": {},
   "source": [
    "**Objectif** : Préparer les données en identifiant et en appliquant les transformations nécessaires pour assurer leur qualité et leur cohérence avant l’entraînement du modèle.\n",
    "\n",
    "#### Instructions\n",
    "\n",
    "1. **Vérification et Traitement des Valeurs Manquantes**\n",
    "   - **Vérifiez s'il y a des valeurs manquantes** dans le dataset, en utilisant des fonctions `pandas` pour détecter les cellules vides.\n",
    "   - Déterminez ensuite la meilleure approche pour traiter les valeurs manquantes :\n",
    "     - **Imputation** (recommandée) : Remplir les valeurs manquantes par une statistique appropriée, comme la moyenne ou la médiane, pour éviter la perte d’information.\n",
    "     - **Suppression** (si nécessaire) : Supprimer les lignes ou colonnes comportant trop de valeurs manquantes.\n",
    "   - **Note** : Si vous choisissez l’imputation, elle sera effectuée **après la division des données** en ensembles d’entraînement et de test dans l’étape suivante pour éviter la fuite de données (**data leakage**)."
   ]
  },
  {
   "cell_type": "code",
   "execution_count": null,
   "id": "d5ddad8f-9478-4af2-baab-459a29cf2c2d",
   "metadata": {},
   "outputs": [],
   "source": [
    "# Insérez votre code ici pour vérifier et identifier les valeurs manquantes"
   ]
  },
  {
   "cell_type": "markdown",
   "id": "2bfd70c6-7f3d-44a7-a4e8-176b13975c2e",
   "metadata": {},
   "source": [
    "2. **Encodage des Variables Catégorielles**\n",
    "   - Si le dataset contient des variables catégorielles, encodez-les en valeurs numériques pour qu'elles soient utilisables par le modèle. Vous pouvez utiliser `OneHotEncoder` ou `LabelEncoder` selon le cas.\n",
    "   - Vérifiez la nécessité de cette étape en explorant les types de variables dans le dataset."
   ]
  },
  {
   "cell_type": "code",
   "execution_count": null,
   "id": "77ee7899-f6d9-411b-b6ab-686c06fd9b2b",
   "metadata": {},
   "outputs": [],
   "source": [
    "# Insérez votre code ici pour encoder les variables catégorielles si nécessaire"
   ]
  },
  {
   "cell_type": "markdown",
   "id": "58bcd6db-9647-434d-ae8f-9986ab2a6cf1",
   "metadata": {},
   "source": [
    "3. **Normalisation ou Standardisation des Données**\n",
    "   - Les modèles sensibles à l’échelle des données, comme les modèles linéaires ou K-Nearest Neighbors, peuvent nécessiter une **normalisation** (mise à l’échelle de 0 à 1) ou une **standardisation** (centrage à une moyenne de 0 et écart-type de 1).\n",
    "   > **Note** : La normalisation ou standardisation sera également appliquée **après la division des données** en ensembles d’entraînement et de test, ce qui sera abordé dans l’étape suivante pour éviter toute fuite de données."
   ]
  },
  {
   "cell_type": "markdown",
   "id": "078fb28e-c12a-4a4c-b78c-7552e2fc0601",
   "metadata": {
    "jp-MarkdownHeadingCollapsed": true,
    "tags": []
   },
   "source": [
    "---\n",
    "\n",
    "## Étape 4 : Sélection des Variables, Division des Données et Prétraitement"
   ]
  },
  {
   "cell_type": "markdown",
   "id": "c68bbf07-ea46-4e21-a924-30ddb1f3f4d7",
   "metadata": {},
   "source": [
    "**Objectif** : Sélectionner les variables pertinentes, séparer les caractéristiques (features) et la cible (target), diviser les données en ensembles d'entraînement et de test, puis appliquer des techniques de prétraitement pour garantir des données prêtes pour l’entraînement.\n",
    "\n",
    "#### Instructions\n",
    "\n",
    "1. **Sélection des Variables Pertinentes**\n",
    "   - **Identifiez les variables** les plus pertinentes pour l’analyse en vous basant sur l’exploration des données (EDA) de l’étape précédente.\n",
    "   - Choisissez les colonnes à inclure dans les caractéristiques (features) et dans la cible (target) en fonction de leur corrélation ou de leur importance pour la prédiction.\n"
   ]
  },
  {
   "cell_type": "code",
   "execution_count": null,
   "id": "fb616747-3e85-47ab-a1fe-f9d2208e2054",
   "metadata": {},
   "outputs": [],
   "source": [
    "# Insérez votre code ici pour sélectionner les variables pertinentes"
   ]
  },
  {
   "cell_type": "markdown",
   "id": "39648c08-ccc7-4a33-8587-522423bc044e",
   "metadata": {},
   "source": [
    "2. **Séparation des Caractéristiques (Features) et de la Cible (Target)**\n",
    "   - **Définissez les features et la target** en créant deux objets séparés, `X` pour les caractéristiques et `y` pour la variable cible.\n",
    "   - La cible (target) est la variable que l’on souhaite prédire, ici `MedHouseVal` dans le dataset California Housing."
   ]
  },
  {
   "cell_type": "code",
   "execution_count": null,
   "id": "9c9953d8-b3f9-4f1e-83f9-cd65bcf4e27a",
   "metadata": {},
   "outputs": [],
   "source": [
    "# Insérez votre code ici pour séparer les caractéristiques (X) et la cible (y)"
   ]
  },
  {
   "cell_type": "markdown",
   "id": "3d8c0e2d-0a74-47b3-a80c-22bba731f757",
   "metadata": {},
   "source": [
    "3. **Division des Données en Ensembles d’Entraînement et de Test**\n",
    "   - **Divisez les données** en ensembles d’entraînement (`X_train`, `y_train`) et de test (`X_test`, `y_test`) en utilisant `train_test_split`.\n",
    "   - Cette étape garantit que le modèle est entraîné sur une partie des données (80 %) et évalué sur des données qu’il n’a jamais vues (20 %).\n",
    "   - **Paramètres recommandés** :\n",
    "     - `test_size=0.2` : Alloue 20 % des données pour le test et 80 % pour l’entraînement.\n",
    "     - `random_state=42` : Assure la reproductibilité des résultats."
   ]
  },
  {
   "cell_type": "code",
   "execution_count": null,
   "id": "1c0070cc-f463-4f93-b3ed-94b06611dd57",
   "metadata": {},
   "outputs": [],
   "source": [
    "# Insérez votre code ici pour diviser les données en ensembles d’entraînement et de test"
   ]
  },
  {
   "cell_type": "markdown",
   "id": "91cecd2e-2569-4d51-b3b9-eafb8dd3b071",
   "metadata": {},
   "source": [
    "### 4. Prétraitement des Données : \n",
    "\n",
    "#### Syntaxe Générale avec `sklearn.preprocessing`\n",
    "\n",
    "Le prétraitement des données inclut des étapes comme **l’imputation des valeurs manquantes** et la **mise à l’échelle des données** (normalisation ou standardisation) pour garantir des caractéristiques cohérentes et exploitables par les modèles.\n",
    "\n",
    "Voici la syntaxe générale pour appliquer les fonctions de prétraitement avec `sklearn.preprocessing` :\n",
    "\n",
    "```python\n",
    "# Importer la fonction de prétraitement souhaitée\n",
    "from sklearn.preprocessing import SomePreprocessingFunction  \n",
    "\n",
    "# 1. Instancier le préprocesseur\n",
    "preprocessor = SomePreprocessingFunction()  # Créez une instance de la fonction de prétraitement\n",
    "\n",
    "# 2. Ajuster et transformer les données d'entraînement\n",
    "X_train_preprocessed = preprocessor.fit_transform(X_train)  # Apprend les paramètres et applique la transformation sur X_train\n",
    "\n",
    "# 3. Transformer les données de test\n",
    "X_test_preprocessed = preprocessor.transform(X_test)  # Utilise les mêmes paramètres pour transformer X_test\n",
    "```\n",
    "\n",
    "#### Explication du Code\n",
    "- **Importer la Fonction de Prétraitement** : Importez la fonction de `sklearn.preprocessing` correspondant à la transformation souhaitée, par exemple `StandardScaler` pour la standardisation ou `SimpleImputer` pour l’imputation.\n",
    "- **Instancier le Préprocesseur** : Créez une instance de la classe de prétraitement, par exemple `StandardScaler()` ou `SimpleImputer(strategy='mean')`.\n",
    "- **Ajuster et Transformer les Données d’Entraînement** : Utilisez `.fit_transform()` sur les données d’entraînement pour calculer les paramètres (par exemple, la moyenne et l’écart-type pour la standardisation) et appliquer la transformation en une seule étape.\n",
    "- **Transformer les Données de Test** : Utilisez `.transform()` sur les données de test pour appliquer la transformation en utilisant uniquement les paramètres appris sur les données d’entraînement.\n",
    "\n",
    "> **Note** : L’utilisation de `.fit_transform()` sur les données d’entraînement et de `.transform()` uniquement sur les données de test est cruciale pour éviter toute fuite de données (**data leakage**). Cela garantit que les informations de l’ensemble de test restent inconnues pendant l’entraînement du modèle.\n",
    "\n",
    "\n",
    "#### Applications de Prétraitement\n",
    "\n",
    "##### 1. **Imputation des Valeurs Manquantes**\n",
    "   - Utilisez `SimpleImputer` pour combler les valeurs manquantes avec une des trois stratégies :\n",
    "     - `strategy='mean'` : Remplace par la moyenne.\n",
    "     - `strategy='median'` : Remplace par la médiane.\n",
    "     - `strategy='most_frequent'` : Remplace par la valeur la plus fréquente.\n"
   ]
  },
  {
   "cell_type": "code",
   "execution_count": null,
   "id": "e809b02a-6bd6-4f38-9371-7b5f86f4e51e",
   "metadata": {},
   "outputs": [],
   "source": [
    "# Insérez votre code ici pour imputation des valeurs manquantes des données si nécessaire"
   ]
  },
  {
   "cell_type": "markdown",
   "id": "895ece72-cacd-4570-8131-d24cb07b0c1f",
   "metadata": {},
   "source": [
    "##### 2. **Normalisation ou Standardisation des Données**\n",
    "   - Pour aligner l’échelle des données, la standardisation ou la normalisation est essentielle, notamment pour les modèles de régression.\n",
    "   - Utilisez `StandardScaler` pour centrer les données autour de la moyenne et réduire autour de l’écart-type (moyenne 0 et écart-type 1), ou `MinMaxScaler` pour normaliser les valeurs entre 0 et 1.\n",
    "   - **Instruction** : Utilisez `StandardScaler` pour cette analyse et appliquez-le uniquement sur les données d’entraînement, puis transformez les données de test avec les mêmes paramètres.\n",
    "\n",
    "> **Note** : Les données standardisées ainsi obtenues seront utilisées pour l’entraînement de vos modèles de régression, garantissant des caractéristiques adaptées aux exigences des algorithmes et prêtes pour le processus d’apprentissage."
   ]
  },
  {
   "cell_type": "code",
   "execution_count": null,
   "id": "585c7cc5-0d1a-4141-b69f-f1f5ed41d4f2",
   "metadata": {},
   "outputs": [],
   "source": [
    "# Insérez votre code ici pour préparer la standardisation des données"
   ]
  },
  {
   "cell_type": "markdown",
   "id": "6fdba69c-60bb-44c0-967c-89bb976a28d8",
   "metadata": {
    "jp-MarkdownHeadingCollapsed": true,
    "tags": []
   },
   "source": [
    "---\n",
    "## Étape 5 : Entraînement des Modèles de Régression"
   ]
  },
  {
   "cell_type": "markdown",
   "id": "e9b35ec4-78ec-4e33-8ec3-a95006b2ccea",
   "metadata": {},
   "source": [
    "\n",
    "Cette étape vous guide dans l’entraînement de modèles de régression en Machine Learning pour prédire une variable continue, comme dans le cas du California Housing Dataset où la cible est la valeur médiane des maisons.\n",
    "\n",
    "Chaque modèle que nous allons introduire a des particularités, des forces et des limites en fonction des types de données et des objectifs. Nous aborderons aussi les modèles communs à la classification en montrant comment les utiliser pour la régression.\n",
    "\n",
    "\n",
    "### Modèles de Régression : Principes et Utilisation en Scikit-Learn\n",
    "\n",
    "\n",
    "#### Modèle 1 : Régression Linéaire\n",
    "\n",
    "**Principe** :\n",
    "La régression linéaire modélise la relation entre une ou plusieurs variables indépendantes et la cible en ajustant un modèle de type ligne droite (ou hyperplan dans le cas de multiples caractéristiques). L’objectif est de minimiser la somme des carrés des erreurs (les résidus) pour obtenir une relation linéaire optimale.\n",
    "\n",
    "**Utilité** :\n",
    "Utilisée lorsque la relation entre les caractéristiques et la cible est linéaire. Ce modèle est rapide et interprétable.\n",
    "\n",
    "**Forces** :\n",
    "- Simple à interpréter.\n",
    "- Rapide à entraîner pour les petites et moyennes tailles de données.\n",
    "- Sensible aux valeurs aberrantes et aux multicolinéarités.\n",
    "\n",
    "**Limitations** :\n",
    "- Moins performante pour les relations non linéaires.\n",
    "- Sensible aux valeurs extrêmes, qui peuvent affecter la précision.\n",
    "\n",
    "**Classe d’importation** :\n",
    "```python\n",
    "from sklearn.linear_model import LinearRegression\n",
    "```"
   ]
  },
  {
   "cell_type": "code",
   "execution_count": null,
   "id": "ab50b805-dc6f-443b-9107-66d858392882",
   "metadata": {},
   "outputs": [],
   "source": [
    "# Instanciez et entraînez le modèle Régression Linéaire ici"
   ]
  },
  {
   "cell_type": "markdown",
   "id": "cd238dae-23d0-4f7f-b5b1-ba86eb5cd96c",
   "metadata": {},
   "source": [
    "#### Modèle 2 : K-Nearest Neighbors (KNN) en Régression\n",
    "\n",
    "**Principe** :\n",
    "En régression, KNN utilise la moyenne (ou la médiane) des valeurs cibles des k voisins les plus proches pour faire des prédictions.\n",
    "\n",
    "**Utilité** :\n",
    "Particulièrement utile lorsque la cible peut être estimée par la proximité des valeurs similaires dans l’espace des caractéristiques. KNN en régression fonctionne bien pour les petites bases de données, mais il est moins performant sur de grands ensembles de données.\n",
    "\n",
    "**Forces** :\n",
    "- Simple à comprendre et à appliquer.\n",
    "- Performant sur les données locales, sans présupposer une relation linéaire.\n",
    "\n",
    "**Limitations** :\n",
    "- Sensible aux dimensions élevées (curse of dimensionality).\n",
    "- Coût de calcul élevé pour des données volumineuses.\n",
    "\n",
    "**Prétraitement recommandé** :\n",
    "Normalisation des données recommandée.\n",
    "\n",
    "**Classe d’importation** :\n",
    "```python\n",
    "from sklearn.neighbors import KNeighborsRegressor\n",
    "```"
   ]
  },
  {
   "cell_type": "code",
   "execution_count": null,
   "id": "57ed2372-6ef3-493a-8f7e-2ea46df07fd0",
   "metadata": {},
   "outputs": [],
   "source": [
    "# Instanciez et entraînez le modèle KNN ici"
   ]
  },
  {
   "cell_type": "markdown",
   "id": "69839964-3421-44f2-9945-63128c8f872a",
   "metadata": {
    "tags": []
   },
   "source": [
    "#### Modèle 3 : Régression avec Arbre de Décision (Decision Tree Regressor)\n",
    "\n",
    "**Principe** :  \n",
    "En régression, un arbre de décision divise les données en segments en fonction de seuils sur les caractéristiques. Chaque feuille de l’arbre contient une valeur prédite pour la cible, souvent la moyenne des observations présentes dans la feuille.\n",
    "\n",
    "**Utilité** :  \n",
    "Idéal pour des données avec des relations non linéaires, où des seuils simples dans les caractéristiques permettent de modéliser les variations de la cible. Il offre aussi une grande transparence, permettant de visualiser la logique derrière les prédictions.\n",
    "\n",
    "**Forces** :\n",
    "- Capable de capturer des relations non linéaires entre caractéristiques et cible.\n",
    "- Peu sensible aux valeurs aberrantes, car il divise simplement les données selon des seuils.\n",
    "\n",
    "**Limitations** :\n",
    "- Peut être sujet au surapprentissage (overfitting), en particulier si l’arbre est très profond et que chaque feuille contient peu d’observations.\n",
    "- Les prédictions manquent de continuité, car elles sont basées sur des moyennes constantes dans chaque feuille.\n",
    "\n",
    "**Classe d’importation** :\n",
    "```python\n",
    "from sklearn.tree import DecisionTreeRegressor\n",
    "```"
   ]
  },
  {
   "cell_type": "code",
   "execution_count": null,
   "id": "da7340dc-3d7c-4a87-a743-49771fa2942e",
   "metadata": {},
   "outputs": [],
   "source": [
    "# Instanciez et entraînez le modèle Arbre de Décision ici"
   ]
  },
  {
   "cell_type": "markdown",
   "id": "096402d6-d34e-4098-9dd1-de271868a002",
   "metadata": {},
   "source": [
    "#### Modèle 4 : Forêt d'Arbres Décisionnels en Régression (Random Forest Regressor)\n",
    "\n",
    "**Principe** :  \n",
    "La forêt d’arbres en régression construit plusieurs arbres de décision en utilisant des sous-échantillons des données et en réalisant des moyennes des prédictions pour une estimation plus stable. Cette méthode permet de réduire le risque de surapprentissage, car elle agrège des prédictions issues de multiples arbres, chacun entraîné sur un échantillon différent.\n",
    "\n",
    "**Utilité** :  \n",
    "Adapté aux données avec des relations complexes ou non linéaires, où un seul arbre pourrait surajuster les données. La forêt moyenne les erreurs de chaque arbre pour obtenir des prédictions plus robustes.\n",
    "\n",
    "**Forces** :\n",
    "- Prédictions plus stables grâce à l’agrégation des résultats de plusieurs arbres.\n",
    "- Capable de capturer des relations complexes et moins sensible aux variations aléatoires dans les données.\n",
    "\n",
    "**Limitations** :\n",
    "- Nécessite plus de ressources mémoire et de calcul que les arbres de décision seuls.\n",
    "- Moins interprétable, car il devient difficile de comprendre la logique des prédictions issues de centaines d’arbres.\n",
    "\n",
    "**Classe d’importation** :\n",
    "```python\n",
    "from sklearn.ensemble import RandomForestRegressor\n",
    "```"
   ]
  },
  {
   "cell_type": "code",
   "execution_count": null,
   "id": "39f44bab-717e-4db2-bb0a-7e67d9815a35",
   "metadata": {},
   "outputs": [],
   "source": [
    "# Instanciez et entraînez le modèle Random Forest ici"
   ]
  },
  {
   "cell_type": "markdown",
   "id": "4394adad-b4b3-476c-905e-2f5a10ab09f3",
   "metadata": {},
   "source": [
    "#### Modèle 5 : Support Vector Regression (SVR)\n",
    "\n",
    "**Principe** : SVR est une extension de la SVM pour la régression. Il cherche à trouver une ligne ou un hyperplan qui maximise la marge dans laquelle les points d’entraînement se trouvent, tout en minimisant les erreurs au-delà de cette marge.\n",
    "\n",
    "**Utilité** : Utile pour des données complexes où une séparation linéaire n’est pas suffisante. Fonctionne bien avec les données de haute dimension et peut gérer des relations non linéaires.\n",
    "\n",
    "**Forces** :\n",
    "- Adapté aux données de haute dimension.\n",
    "- Peut capturer des relations non linéaires avec des noyaux appropriés (par exemple, RBF).\n",
    "\n",
    "**Limitations** :\n",
    "- Coût de calcul élevé pour des grands jeux de données.\n",
    "- Sensible aux choix des hyperparamètres (`C` et `epsilon`).\n",
    "\n",
    "**Prétraitement recommandé** : Standardisation des données.\n",
    "\n",
    "**Paramètres Clés** :\n",
    "- `C` : Paramètre de régularisation qui contrôle la pénalité pour les erreurs en dehors de la marge.\n",
    "- `kernel` : Type de noyau utilisé (linéaire, RBF, etc.).\n",
    "- `epsilon` : Zone de tolérance pour les erreurs, qui définit les points acceptés dans la marge sans pénalité.\n",
    "\n",
    "**Classe d’importation** :\n",
    "```python\n",
    "from sklearn.svm import SVR\n",
    "```"
   ]
  },
  {
   "cell_type": "code",
   "execution_count": null,
   "id": "20dc15c3-27d1-4006-a949-6b94fdaeda2f",
   "metadata": {},
   "outputs": [],
   "source": [
    "# Instanciez et entraînez le modèle SVM ici"
   ]
  },
  {
   "cell_type": "markdown",
   "id": "19d9996c-a150-49d5-b820-8bb2a17bcc36",
   "metadata": {
    "jp-MarkdownHeadingCollapsed": true,
    "tags": []
   },
   "source": [
    "---\n",
    "## Étape 6 : Prédiction avec les Modèles"
   ]
  },
  {
   "cell_type": "markdown",
   "id": "0a58f3e7-ca01-47c7-b502-a2070d37fc5e",
   "metadata": {},
   "source": [
    "Utilisez les modèles de régression entraînés pour générer des prédictions sur les données de test, puis comparez-les aux valeurs réelles pour évaluer la précision de chaque modèle.\n",
    "\n",
    "1. **Prédisez les valeurs de la cible** pour chaque modèle en appliquant la méthode `.predict(X_test)`.\n",
    "2. **Stockez les prédictions** pour chaque modèle afin de faciliter la comparaison."
   ]
  },
  {
   "cell_type": "code",
   "execution_count": null,
   "id": "fb478ba5-f159-4066-aefb-21e42aa5b2d2",
   "metadata": {},
   "outputs": [],
   "source": [
    "# Insérez votre code ici pour prédire les classes avec le modèle de Régression Lineaire\n",
    "\n",
    "# Insérez votre code ici pour prédire les classes avec le modèle KNN\n",
    "\n",
    "# Insérez votre code ici pour prédire les classes avec le modèle Arbre de Décision\n",
    "\n",
    "# Insérez votre code ici pour prédire les classes avec le modèle Random Forest\n",
    "\n",
    "# Insérez votre code ici pour prédire les classes avec le modèle SVM"
   ]
  },
  {
   "cell_type": "markdown",
   "id": "4bf4ad07-f7e1-4f87-83ec-f7bee5f357a6",
   "metadata": {},
   "source": [
    "> **Questions** :\n",
    "> - Comment les valeurs prédites se comparent-elles aux valeurs réelles ? Observez `y_pred` par rapport à `y_test`.\n",
    "> - Quel modèle semble produire les prédictions les plus précises ?\n",
    "> - Si vous remarquez des erreurs importantes, quelles caractéristiques ou patterns semblent influencer ces écarts ?"
   ]
  },
  {
   "cell_type": "markdown",
   "id": "dcf3e482-bd79-4354-8dc5-0f20a379c2da",
   "metadata": {
    "jp-MarkdownHeadingCollapsed": true,
    "tags": []
   },
   "source": [
    "---\n",
    "## Étape 7 : Interprétation des Modèles de Régression"
   ]
  },
  {
   "cell_type": "markdown",
   "id": "7d8679e0-067c-4293-9a0b-fdf25cfb2979",
   "metadata": {},
   "source": [
    "L’interprétation des modèles de régression vous permet de mieux comprendre les relations entre les caractéristiques et la cible. Dans cette section, vous allez explorer comment chaque modèle interprète les données et quels éléments influencent le plus les prédictions.\n",
    "\n",
    "#### 1. **Régression Linéaire : Interprétation des Coefficients**\n",
    "\n",
    "Les **coefficients** de la régression linéaire représentent l’impact de chaque caractéristique sur la cible. Un coefficient positif indique une relation positive, tandis qu’un coefficient négatif montre une relation inverse.\n",
    "\n",
    "> **Instructions :** Affichez les coefficients et associez-les aux noms des caractéristiques pour voir lesquelles influencent le plus la cible."
   ]
  },
  {
   "cell_type": "code",
   "execution_count": null,
   "id": "a149bdac-69e8-41e7-994a-765190091953",
   "metadata": {},
   "outputs": [],
   "source": [
    "# Insérez votre code ici pour afficher les coefficients de la régression linéaire"
   ]
  },
  {
   "cell_type": "markdown",
   "id": "01f193f0-6c36-4ab7-8733-1781f8d6c481",
   "metadata": {},
   "source": [
    "> **Questions** :\n",
    "> - Quels sont les coefficients les plus élevés ?\n",
    "> - Ces coefficients reflètent-ils vos attentes par rapport aux données ?"
   ]
  },
  {
   "cell_type": "markdown",
   "id": "c7150d94-7669-44f7-bf66-4555933f6632",
   "metadata": {},
   "source": [
    "#### 2. **K-Nearest Neighbors (KNN) en Régression : Importance des Données Locales**\n",
    "\n",
    "Le modèle KNN en régression utilise les valeurs des k voisins les plus proches pour faire ses prédictions. L’influence de chaque observation dépend de la proximité dans l’espace des caractéristiques.\n",
    "\n",
    "> **Instructions :** Choisissez une observation dans `X_test` et identifiez ses k plus proches voisins dans `X_train` pour voir comment leurs valeurs influencent la prédiction."
   ]
  },
  {
   "cell_type": "code",
   "execution_count": null,
   "id": "7e43d20f-bd9c-4825-94a4-d19fd271ba61",
   "metadata": {},
   "outputs": [],
   "source": [
    "# Insérez votre code ici pour observer les voisins d'une observation"
   ]
  },
  {
   "cell_type": "markdown",
   "id": "96a1b7b3-ae26-4a4b-8549-79c03b703ad3",
   "metadata": {},
   "source": [
    "> **Questions** :\n",
    "> - Les prédictions du modèle KNN reflètent-elles bien les tendances locales ?\n",
    "> - Les valeurs des voisins influencent-elles les prédictions comme prévu ?"
   ]
  },
  {
   "cell_type": "markdown",
   "id": "d2624815-8dd5-4cfa-95b5-8c5fdf957aaf",
   "metadata": {},
   "source": [
    "#### 3. **Arbre de Décision : Visualisation des Décisions et Importance des Caractéristiques**\n",
    "\n",
    "Les arbres de décision sont interprétables, car chaque nœud représente une règle de décision. Vous pouvez visualiser l’arbre pour observer comment chaque caractéristique influence la prédiction.\n",
    "\n",
    "> **Instructions :** Utilisez `plot_tree()` pour visualiser l’arbre et `.feature_importances_` pour voir quelles caractéristiques sont les plus influentes.\n"
   ]
  },
  {
   "cell_type": "code",
   "execution_count": null,
   "id": "a460caf4-dc03-4e93-b73f-dd587bd6b8c7",
   "metadata": {},
   "outputs": [],
   "source": [
    "# Insérez votre code ici pour visualiser l'arbre de décision"
   ]
  },
  {
   "cell_type": "code",
   "execution_count": null,
   "id": "129c9869-6d31-4173-b5b5-a3e814937098",
   "metadata": {},
   "outputs": [],
   "source": [
    "# Insérez votre code ici pour afficher l'importance des caractéristiques"
   ]
  },
  {
   "cell_type": "markdown",
   "id": "9513ed45-e791-4769-af2f-9d199f088b41",
   "metadata": {},
   "source": [
    "> **Questions** :\n",
    "> - Les caractéristiques en haut de l’arbre sont-elles les plus influentes ? \n",
    "> - Observez-vous des relations intuitives entre les caractéristiques et les décisions de l’arbre ?"
   ]
  },
  {
   "cell_type": "markdown",
   "id": "0d7a5ad9-da36-49a9-a915-383caace2278",
   "metadata": {},
   "source": [
    "#### 4. **Forêt d’Arbres Décisionnels (Random Forest) : Importance des Caractéristiques**\n",
    "\n",
    "Les forêts d’arbres fournissent une estimation de l'importance des caractéristiques en analysant leur contribution à la réduction de l’erreur. Cette importance est calculée en moyenne sur tous les arbres.\n",
    "\n",
    "> **Instructions :** Utilisez `.feature_importances_` pour afficher et visualiser l’importance des caractéristiques.\n"
   ]
  },
  {
   "cell_type": "code",
   "execution_count": null,
   "id": "2fe502e0-d490-4de5-9670-e94e0c9f07de",
   "metadata": {},
   "outputs": [],
   "source": [
    "# Insérez votre code ici pour afficher l'importance des caractéristiques dans la Forêt d'Arbres"
   ]
  },
  {
   "cell_type": "markdown",
   "id": "2b76d34d-9385-4af9-ab1a-f6cae04fd97a",
   "metadata": {},
   "source": [
    "> **Questions** :\n",
    "> - Quelles caractéristiques sont les plus importantes selon le modèle Random Forest ?\n",
    "> - Ces caractéristiques correspondent-elles aux résultats des autres modèles ?"
   ]
  },
  {
   "cell_type": "markdown",
   "id": "c18f2548-16bb-4f55-b145-afdf6e634c6c",
   "metadata": {},
   "source": [
    "#### 5. **Support Vector Regression (SVR) : Points de Support et Coefficients**\n",
    "\n",
    "En SVR, les points de support influencent fortement les prédictions, et dans le cas d’un SVR linéaire, vous pouvez également visualiser les coefficients des caractéristiques. Les points de support sont les observations proches des marges qui contribuent directement à la formation du modèle.\n",
    "\n",
    "> **Instructions :** Affichez les indices des points de support avec `.support_` et, si vous utilisez un noyau linéaire, accédez aux coefficients avec `.coef_`."
   ]
  },
  {
   "cell_type": "markdown",
   "id": "191cacb3-aca5-4919-a6ff-1b1c4d043f8e",
   "metadata": {},
   "source": [
    "> **Questions** :\n",
    "> - Les points de support représentent-ils des observations particulières ? Sont-ils proches des marges de décision ?\n",
    "> - Les coefficients reflètent-ils l'influence attendue des caractéristiques ?"
   ]
  },
  {
   "cell_type": "markdown",
   "id": "c84f692d-db11-481e-9ea9-55febc265fc2",
   "metadata": {},
   "source": [
    "### Résumé et Comparaison des Modèles\n",
    "\n",
    "Après avoir interprété chaque modèle, comparez leurs caractéristiques influentes.\n",
    "\n",
    "> **Questions** :\n",
    "> - Les différents modèles mettent-ils en avant les mêmes caractéristiques comme les plus influentes ?\n",
    "> - Quel modèle vous semble le mieux aligné avec la structure des données ?\n",
    "> - En fonction des résultats, quelles caractéristiques ou ajustements pourraient être envisagés pour améliorer les performances ?"
   ]
  },
  {
   "cell_type": "markdown",
   "id": "cf3979ea-cea4-4dec-ae49-670f66b35bf7",
   "metadata": {
    "jp-MarkdownHeadingCollapsed": true,
    "tags": []
   },
   "source": [
    "---\n",
    "## Étape 8 : Évaluation des Modèles de Régression"
   ]
  },
  {
   "cell_type": "markdown",
   "id": "614995eb-2d50-4362-a6ff-7f4c4af0d93b",
   "metadata": {},
   "source": [
    "L’évaluation des modèles de régression repose sur des métriques spécifiques qui mesurent la différence entre les valeurs réelles et les valeurs prédites par le modèle. Les principales métriques de régression sont :\n",
    "\n",
    "#### Métriques d'Évaluation en Régression\n",
    "\n",
    "1. **Mean Squared Error (MSE) - Erreur Quadratique Moyenne**  \n",
    "   - **Description** : Mesure la moyenne des carrés des erreurs entre les valeurs réelles et les valeurs prédites. MSE accorde une grande importance aux erreurs importantes en les élevant au carré.\n",
    "   - **Interprétation** : Plus la MSE est faible, meilleure est la performance du modèle.\n",
    "   - **Fonction** : `metrics.mean_squared_error(y_test, y_pred)`"
   ]
  },
  {
   "cell_type": "code",
   "execution_count": null,
   "id": "264609a9-ed03-49d8-b72a-d81214bf9877",
   "metadata": {},
   "outputs": [],
   "source": [
    "# Insérez votre code ici pour calculer la MSE d’un modèle"
   ]
  },
  {
   "cell_type": "markdown",
   "id": "51f3b7aa-fafe-49eb-a2bc-3843f6453a2c",
   "metadata": {},
   "source": [
    "> **Questions** :\n",
    "> - La MSE est-elle particulièrement élevée pour certains modèles ? Pourquoi cela pourrait-il être le cas ?\n",
    "> - Y a-t-il des modèles avec une MSE particulièrement faible, indiquant une meilleure précision ?"
   ]
  },
  {
   "cell_type": "markdown",
   "id": "64a8aea6-c179-437d-b2fd-ac658baacb28",
   "metadata": {},
   "source": [
    "2. **Erreur Absolue Moyenne (Mean Absolute Error - MAE)**  \n",
    "   - **Description** : Calcule la moyenne des valeurs absolues des erreurs entre les prédictions et les valeurs réelles. Contrairement à MSE, MAE ne pénalise pas fortement les grandes erreurs.\n",
    "   - **Interprétation** : Une MAE plus faible signifie que le modèle fait moins d'erreurs moyennes dans ses prédictions.\n",
    "   - **Fonction** : `metrics.mean_absolute_error(y_test, y_pred)`"
   ]
  },
  {
   "cell_type": "code",
   "execution_count": null,
   "id": "59b9fcca-ba73-4ccd-b374-e51c96ebd7de",
   "metadata": {},
   "outputs": [],
   "source": [
    "# Insérez votre code ici pour calculer la MAE d’un modèle"
   ]
  },
  {
   "cell_type": "markdown",
   "id": "ffe270e8-62d9-4cfb-a81b-0edb2230f810",
   "metadata": {},
   "source": [
    "> **Questions** :\n",
    "> - Comment MAE se compare-t-il entre les modèles ? Un modèle est-il clairement meilleur sur cette métrique ?\n",
    "> - Y a-t-il des cas où MSE et MAE diffèrent fortement pour un modèle ? Pourquoi cela pourrait-il se produire ?"
   ]
  },
  {
   "cell_type": "markdown",
   "id": "02bef405-92dd-4049-bc50-30e4d12676b0",
   "metadata": {},
   "source": [
    "#### 3. **R² Score (Coefficient de Détermination)**  \n",
    "   - **Description** : Représente la proportion de la variance de la cible expliquée par le modèle. Il est compris entre 0 et 1 (ou entre -∞ et 1 pour les modèles qui sous-performent).\n",
    "   - **Interprétation** : Un score proche de 1 signifie que le modèle explique bien les variations de la cible. Un score proche de 0 signifie que le modèle n'explique que peu la variance des données.\n",
    "   - **Fonction** : `metrics.r2_score(y_test, y_pred)`"
   ]
  },
  {
   "cell_type": "code",
   "execution_count": null,
   "id": "58be5ebd-76ef-471e-a4a1-b02e67f28136",
   "metadata": {},
   "outputs": [],
   "source": [
    "# Insérez votre code ici pour calculer le R² Score d’un modèle"
   ]
  },
  {
   "cell_type": "markdown",
   "id": "7b3e4b5d-bfd5-477f-9c65-b58fcf1e4300",
   "metadata": {},
   "source": [
    "> **Questions** :\n",
    "> - Quel modèle a le R² le plus élevé ? Ce modèle explique-t-il bien la variance des données ?\n",
    "> - Y a-t-il des modèles avec des scores R² bas ? Si oui, pourquoi, et qu’est-ce que cela indique sur leurs performances ?"
   ]
  },
  {
   "cell_type": "markdown",
   "id": "92557338-2186-4a32-9ca7-558fe5e69f77",
   "metadata": {
    "jp-MarkdownHeadingCollapsed": true,
    "tags": []
   },
   "source": [
    "## Interprétation des Résultats"
   ]
  },
  {
   "cell_type": "markdown",
   "id": "817dc350-b580-467f-92b7-2df49c22d2f3",
   "metadata": {},
   "source": [
    "Une fois les **métriques d’évaluation** calculées pour chaque modèle (MSE, MAE et R² Score), regroupez-les dans un tableau pour une vue d’ensemble. Cela permettra de comparer les performances et d’interpréter les forces et faiblesses de chaque modèle.\n",
    "\n",
    "#### Instructions pour Regrouper et Analyser les Résultats\n",
    "\n",
    "1. **Créez un tableau** regroupant les métriques de chaque modèle afin de visualiser leurs performances sur les différentes mesures (MSE, MAE, R²).\n",
    "2. **Comparez les valeurs** pour déterminer quel modèle est le plus performant selon chaque métrique.\n",
    "3. **Analysez les écarts entre les métriques** (par exemple, si un modèle a une MSE très différente de son MAE, cela pourrait indiquer des erreurs importantes sur certaines observations)."
   ]
  },
  {
   "cell_type": "code",
   "execution_count": null,
   "id": "70cc0528-e28e-4cc5-996a-f73ee4b9b9a9",
   "metadata": {},
   "outputs": [],
   "source": [
    "# Insérez votre code pour organiser les métriques dans un tableau"
   ]
  },
  {
   "cell_type": "markdown",
   "id": "c873c953-217d-41fc-91e6-df557fc7108f",
   "metadata": {},
   "source": [
    "### Interprétation et d’Analyse des Résultats\n",
    "\n",
    "- **Analyse des performances :**\n",
    "> - **Quel modèle a la MSE la plus faible ?** Cela indique qu'il a globalement moins d’erreurs de prédiction. Est-ce le cas pour toutes les observations ou uniquement certaines ?\n",
    "> - **Quel modèle a le MAE le plus faible ?** Cela montre qu’il fait des erreurs moyennes moins importantes. Ce modèle est-il aussi performant en MSE ?\n",
    "> - **Quel modèle a le R² le plus élevé ?** Un R² proche de 1 indique une forte capacité explicative. Ce modèle est-il également le plus performant en MSE ou MAE ?\n",
    "\n",
    "- **Comparaison des modèles :**\n",
    "> - Le modèle ayant la plus faible MSE a-t-il également la plus faible MAE ? Si non, pourquoi ?\n",
    "> - Le modèle avec le meilleur R² score a-t-il des scores élevés en MSE ou MAE ? \n",
    "> - **Sensibilité aux valeurs extrêmes :** Les modèles montrent-ils des variations importantes entre MSE et MAE ? Quels modèles semblent plus sensibles aux valeurs extrêmes ?\n",
    "\n",
    "### Conclusion des Résultats et Choix du Modèle Optimal\n",
    "\n",
    "En fonction des résultats, vous serez en mesure de déterminer quel modèle convient le mieux aux données et à la tâche de prédiction.\n",
    "\n",
    "> **Questions :**\n",
    "> - **Quel modèle semble le plus adapté en fonction des données et des objectifs ?** Justifiez votre choix.\n",
    "> - **Compromis entre les métriques :** Quel compromis feriez-vous entre MSE, MAE et R² pour un bon modèle dans ce contexte ?\n",
    "> - **Implications pratiques :** Au-delà de la performance, quel modèle est le plus pratique et le plus interprétable pour un utilisateur ou un décideur ?"
   ]
  },
  {
   "cell_type": "markdown",
   "id": "5593dfee-716d-4dd3-a610-6cfab058f0ca",
   "metadata": {
    "jp-MarkdownHeadingCollapsed": true,
    "tags": []
   },
   "source": [
    "---\n",
    "## Les Challenges de la Régression"
   ]
  },
  {
   "cell_type": "markdown",
   "id": "58dd3b73-0897-4183-ba91-a9f55b8387ac",
   "metadata": {
    "tags": []
   },
   "source": [
    "L’entraînement de modèles de régression comporte plusieurs défis courants, liés aux caractéristiques des données, aux spécificités des modèles, et aux risques d’ajustement excessif ou insuffisant. Voici les principaux challenges rencontrés en régression et des solutions pour y remédier.\n",
    "\n",
    "\n",
    "#### 1. **Surapprentissage (Overfitting)**\n",
    "\n",
    "Le surapprentissage survient lorsque le modèle apprend trop en détail les particularités (y compris le bruit) du jeu de données d’entraînement, ce qui nuit à sa capacité de généralisation sur des données nouvelles.\n",
    "\n",
    "- **Signes de surapprentissage** :\n",
    "  - Performances élevées sur le jeu d’entraînement, mais faibles sur le jeu de test (grand écart entre les erreurs de train et de test).\n",
    "  - R² proche de 1 sur le train, mais beaucoup plus faible sur le test.\n",
    "\n",
    "- **Solutions pour éviter le surapprentissage** :\n",
    "  - **Réduire la complexité du modèle** : Limitez la profondeur d’un arbre de décision, diminuez le nombre de voisins pour KNN, ou ajoutez de la régularisation pour la régression linéaire.\n",
    "  - **Utiliser des techniques de régularisation** : En régression linéaire, appliquez des régularisations L1 (Lasso) ou L2 (Ridge) pour contrôler l’influence des caractéristiques.\n",
    "  - **Augmenter le volume de données d’entraînement** : Plus de données peuvent aider le modèle à mieux généraliser.\n",
    "\n",
    "> **Exemple** : Dans une forêt d’arbres décisionnels, un nombre d’arbres trop élevé ou une profondeur importante des arbres peut capturer des variations spécifiques du dataset au lieu de relations générales.\n",
    "\n",
    "\n",
    "#### 2. **Sous-apprentissage (Underfitting)**\n",
    "\n",
    "Le sous-apprentissage se produit lorsque le modèle est trop simple pour capturer les relations entre les caractéristiques et la cible. Cela peut conduire à des erreurs de prédiction importantes aussi bien sur le train que sur le test.\n",
    "\n",
    "- **Signes de sous-apprentissage** :\n",
    "  - Performances faibles à la fois sur le jeu d’entraînement et le jeu de test.\n",
    "  - R² faible sur les deux ensembles, indiquant que le modèle n’explique pas bien la variance des données.\n",
    "\n",
    "- **Solutions pour éviter le sous-apprentissage** :\n",
    "  - **Augmenter la complexité du modèle** : Utilisez une version plus complexe du modèle (par exemple, un arbre plus profond, un modèle de forêt d’arbres, ou un SVR avec un noyau non linéaire).\n",
    "  - **Ajouter des caractéristiques pertinentes** : Si des informations importantes sont absentes, intégrer des variables supplémentaires peut aider à mieux prédire la cible.\n",
    "  - **Essayer un modèle non linéaire** : Les modèles linéaires peuvent sous-apprendre si les données suivent des relations non linéaires.\n",
    "\n",
    "> **Exemple** : Une régression linéaire appliquée à un dataset avec des relations non linéaires conduira probablement à un sous-apprentissage.\n",
    "\n",
    "\n",
    "![overfitting-underfitting-regression](overfitting_underfitting_regression.png)\n",
    "\n",
    "#### 3. **Données Imparfaites**\n",
    "\n",
    "Les caractéristiques des données peuvent également poser des défis pour l’entraînement des modèles de régression.\n",
    "\n",
    "- **Valeurs aberrantes (Outliers)** : Les valeurs extrêmes peuvent fausser les estimations, en particulier pour les modèles sensibles, comme la régression linéaire.\n",
    "  - **Solution** : Identifiez et traitez les valeurs aberrantes en les supprimant ou en utilisant des modèles moins sensibles aux outliers (ex. : arbres de décision, forêts d’arbres).\n",
    "\n",
    "- **Données manquantes** : Les valeurs manquantes peuvent créer des biais si elles sont ignorées ou mal imputées.\n",
    "  - **Solution** : Appliquez une imputation (moyenne, médiane, ou la valeur la plus fréquente) ou envisagez d'utiliser un modèle capable de gérer directement les valeurs manquantes.\n",
    "\n",
    "> **Exemple** : Dans un modèle de régression linéaire, un outlier extrême peut fausser la pente de la droite de régression et réduire la précision des prédictions.\n",
    "\n",
    "\n",
    "#### 4. **Multicolinéarité**\n",
    "\n",
    "La multicolinéarité survient lorsque plusieurs caractéristiques sont fortement corrélées entre elles, rendant difficile pour un modèle linéaire de distinguer leur contribution respective.\n",
    "\n",
    "- **Impact** : En présence de multicolinéarité, les coefficients des caractéristiques peuvent devenir instables, augmentant la variance et réduisant l’interprétabilité.\n",
    "- **Solution** : Utilisez une analyse de corrélation pour identifier et éventuellement supprimer les caractéristiques redondantes ou utilisez une régularisation L2 (Ridge) pour réduire la sensibilité du modèle aux corrélations élevées.\n",
    "\n",
    "> **Exemple** : Dans un dataset immobilier, la surface habitable et le nombre de chambres peuvent être corrélés. Le modèle pourrait avoir du mal à distinguer leur effet individuel sur le prix.\n",
    "\n",
    "\n",
    "\n",
    "#### 5. **Mauvaise sélection de métriques d’évaluation**\n",
    "\n",
    "Choisir des métriques inadaptées pour évaluer les modèles de régression peut donner une impression incorrecte de leur performance.\n",
    "\n",
    "- **Exemples de métriques** :\n",
    "  - **MSE** met plus l’accent sur les grandes erreurs, ce qui peut être utile dans certains contextes mais trompeur si on veut un aperçu global.\n",
    "  - **R²** est utile pour voir combien de la variance de la cible est expliquée, mais il peut masquer des erreurs importantes sur des valeurs spécifiques.\n",
    "  \n",
    "- **Solution** : Utilisez plusieurs métriques pour avoir une vision complète de la performance du modèle (ex. : MSE, MAE, et R²).\n",
    "\n",
    "\n",
    "\n",
    "Ces challenges soulignent l’importance de bien choisir les modèles, les transformations de données et les métriques d’évaluation dans les projets de régression. Un bon ajustement des modèles et une compréhension fine des données permettent d’obtenir des résultats fiables et exploitables dans les applications réelles."
   ]
  },
  {
   "cell_type": "markdown",
   "id": "9dfdc60e-9fa5-48bc-88f7-f6294d0b1b70",
   "metadata": {
    "jp-MarkdownHeadingCollapsed": true,
    "tags": []
   },
   "source": [
    "---\n",
    "## Conclusion"
   ]
  },
  {
   "cell_type": "markdown",
   "id": "e2323a84-ace1-499e-806c-fda63a5118c4",
   "metadata": {
    "tags": []
   },
   "source": [
    "Dans cette séance, nous avons exploré les fondamentaux de la **régression en apprentissage supervisé** et appliqué ces concepts pour modéliser la relation entre les caractéristiques et une variable cible continue, en utilisant le **dataset California Housing** comme cas pratique. Voici les points clés abordés :\n",
    "\n",
    "\n",
    "1. **Compréhension de l'Apprentissage Supervisé en Régression** :\n",
    "   - L’apprentissage supervisé repose sur des données étiquetées pour permettre au modèle d’apprendre les relations entre les caractéristiques et la cible. En régression, il s'agit de prédire une valeur continue en fonction des caractéristiques observées.\n",
    "\n",
    "2. **Exploration et Prétraitement des Données** :\n",
    "   - Nous avons exploré les caractéristiques du dataset et visualisé les relations entre les caractéristiques et la cible pour mieux comprendre les patterns potentiels dans les données.\n",
    "   - Les étapes de prétraitement, comme l’imputation des valeurs manquantes et la mise à l’échelle, ont été cruciales pour s’assurer que les données sont prêtes pour l’entraînement du modèle.\n",
    "\n",
    "3. **Entraînement et Évaluation des Modèles de Régression** :\n",
    "   - Nous avons entraîné plusieurs modèles de régression, chacun ayant ses avantages et limitations, comme la **régression linéaire**, **l'arbre de décision**, **la forêt aléatoire**, **K-Nearest Neighbors**, et le **SVM (SVR)**.\n",
    "   - Pour évaluer les performances de chaque modèle, nous avons utilisé des **métriques adaptées à la régression** (MSE, MAE et R²), permettant de quantifier la précision des prédictions sur des données de test.\n",
    "\n",
    "4. **Challenges et Interprétation des Résultats** :\n",
    "   - Les défis rencontrés en régression, tels que le surapprentissage, le sous-apprentissage et la multicolinéarité, soulignent l’importance de bien sélectionner les modèles et de comprendre les données.\n",
    "   - Nous avons interprété les résultats et comparé les modèles pour identifier le modèle le plus adapté aux données et aux objectifs de prédiction.\n",
    "\n",
    "\n",
    "### Bilan et Application Pratique\n",
    "\n",
    "À travers cette séance, vous avez acquis une compréhension complète du **workflow de régression supervisée** : de l'exploration et du prétraitement des données jusqu'à l'entraînement, l'évaluation et l'interprétation des modèles. Ce processus s’applique aux cas réels où la prédiction d’une valeur continue est cruciale, comme l’évaluation immobilière, la prévision des ventes, ou encore l'estimation de la consommation énergétique.\n",
    "\n",
    "Ces compétences vous offrent une base solide pour aborder d’autres projets de régression en Machine Learning et pour optimiser les modèles en fonction des données disponibles et des objectifs métiers.\n",
    "\n",
    "---"
   ]
  }
 ],
 "metadata": {
  "kernelspec": {
   "display_name": "Python 3 (ipykernel)",
   "language": "python",
   "name": "python3"
  },
  "language_info": {
   "codemirror_mode": {
    "name": "ipython",
    "version": 3
   },
   "file_extension": ".py",
   "mimetype": "text/x-python",
   "name": "python",
   "nbconvert_exporter": "python",
   "pygments_lexer": "ipython3",
   "version": "3.12.6"
  }
 },
 "nbformat": 4,
 "nbformat_minor": 5
}
