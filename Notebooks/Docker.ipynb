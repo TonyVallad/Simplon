{
 "cells": [
  {
   "cell_type": "markdown",
   "metadata": {},
   "source": [
    "### **<h1 align=\"center\">Docker</h1>**"
   ]
  },
  {
   "cell_type": "markdown",
   "metadata": {},
   "source": [
    "## Dockerfile"
   ]
  },
  {
   "cell_type": "markdown",
   "metadata": {},
   "source": [
    "### Example"
   ]
  },
  {
   "cell_type": "markdown",
   "metadata": {},
   "source": [
    "## Docker Compose"
   ]
  },
  {
   "cell_type": "markdown",
   "metadata": {},
   "source": [
    "### Example of docker-compose.yml file"
   ]
  },
  {
   "cell_type": "markdown",
   "metadata": {},
   "source": [
    "```yml\n",
    "services:\n",
    "  backend:\n",
    "    build: .\n",
    "    ports:\n",
    "      - \"8000:8000\"\n",
    "    depends_on:\n",
    "      - db\n",
    "    environment:\n",
    "      - DATABASE_URL=postgres://user:password@db:5432/mydb\n",
    "    restart: always\n",
    "    networks:\n",
    "      - app_network\n",
    "\n",
    "  db:\n",
    "    image: postgres:13\n",
    "    environment:\n",
    "      - POSTGRES_USER=user\n",
    "      - POSTGRES_PASSWORD=password\n",
    "      - POSTGRES_DB=mydb\n",
    "    volumes:\n",
    "      - pg_data:/var/lib/postgresql/data\n",
    "    networks:\n",
    "      - app_network\n",
    "\n",
    "volumes:\n",
    "  pg_data:\n",
    "\n",
    "networks:\n",
    "  app_network:\n",
    "```"
   ]
  },
  {
   "cell_type": "markdown",
   "metadata": {},
   "source": [
    "### Therms"
   ]
  },
  {
   "cell_type": "markdown",
   "metadata": {},
   "source": [
    "- **services**: Defines the individual components (containers) of an application, such as a backend, frontend, or database.  \n",
    "- **image**: A pre-packaged environment that includes an application and its dependencies, used to create containers.  \n",
    "- **build**: Specifies how to create a Docker image from a Dockerfile, instead of using a pre-existing image.  \n",
    "- **ports**: Maps container ports to the host machine to allow external access to services.  \n",
    "- **volumes**: Provides persistent storage by mapping directories between the host and the container.  \n",
    "- **environment**: Sets environment variables inside a container to configure its behavior.  \n",
    "- **depends_on**: Defines service dependencies to ensure one service starts before another, but does not wait for it to be fully ready.  \n",
    "- **networks**: Defines custom networks that allow containers to communicate with each other.  \n",
    "- **command**: Overrides the default command used to start a container.  \n",
    "- **restart**: Defines a policy for automatically restarting containers when they stop or fail."
   ]
  }
 ],
 "metadata": {
  "kernelspec": {
   "display_name": ".venv",
   "language": "python",
   "name": "python3"
  },
  "language_info": {
   "codemirror_mode": {
    "name": "ipython",
    "version": 3
   },
   "file_extension": ".py",
   "mimetype": "text/x-python",
   "name": "python",
   "nbconvert_exporter": "python",
   "pygments_lexer": "ipython3",
   "version": "3.12.7"
  }
 },
 "nbformat": 4,
 "nbformat_minor": 2
}
