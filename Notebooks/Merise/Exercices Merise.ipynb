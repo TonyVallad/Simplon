{
 "cells": [
  {
   "cell_type": "markdown",
   "metadata": {},
   "source": [
    "**<h1 align=\"center\">Exercices Merise</h1>**"
   ]
  },
  {
   "cell_type": "markdown",
   "metadata": {},
   "source": [
    "## Exercices 1 & 2"
   ]
  },
  {
   "cell_type": "markdown",
   "metadata": {},
   "source": [
    "<div style=\"text-align: center;\">\n",
    "    <img src=\"Exercice 1 & 2.svg\" width=\"800\">\n",
    "</div>"
   ]
  },
  {
   "cell_type": "markdown",
   "metadata": {},
   "source": [
    "```sql\n",
    "Table Produit {\n",
    "  id int [pk, increment] // Identifiant unique du produit\n",
    "  nom varchar [not null] // Nom du produit\n",
    "  prix decimal(10,2) [not null] // Prix du produit\n",
    "  date_livraison date [not null] // Date de livraison\n",
    "  duree_garantie int [not null] // Durée de garantie (en années)\n",
    "  id_type int [not null, ref: > Type_Produit.id] // Référence vers le type de produit\n",
    "  id_fournisseur int [not null, ref: > Fournisseur.id] // Référence vers le fournisseur\n",
    "}\n",
    "\n",
    "Table Type_Produit {\n",
    "  id int [pk, increment] // Identifiant unique du type de produit\n",
    "  libelle varchar [not null] // Libellé du type de produit (mobilier, luminaire, etc.)\n",
    "}\n",
    "\n",
    "Table Fournisseur {\n",
    "  id int [pk, increment] // Identifiant unique du fournisseur\n",
    "  nom varchar [not null] // Nom du fournisseur\n",
    "  adresse text [not null] // Adresse du fournisseur\n",
    "}\n",
    "```"
   ]
  },
  {
   "cell_type": "markdown",
   "metadata": {},
   "source": [
    "## Exercice 3.1"
   ]
  },
  {
   "cell_type": "markdown",
   "metadata": {},
   "source": [
    "<div style=\"text-align: center;\">\n",
    "    <img src=\"Exercice 3.1.svg\" width=\"800\">\n",
    "</div>"
   ]
  },
  {
   "cell_type": "markdown",
   "metadata": {},
   "source": [
    "```sql\n",
    "Table Factures {\n",
    "  id_vente int [pk, increment] // Clé primaire\n",
    "  date_vente date\n",
    "  id_produit int [ref: > Produits.id_produit] // Clé étrangère vers Produits\n",
    "  id_client int [ref: > Clients.id_client] // Clé étrangère vers Clients\n",
    "  id_magasin int [ref: > Magasins.id_magasin] // Clé étrangère vers Magasins\n",
    "  quantite_vendue int\n",
    "  prix_total decimal(10,2)\n",
    "}\n",
    "\n",
    "Table Produits {\n",
    "  id_produit int [pk, increment] // Clé primaire\n",
    "  nom_produit varchar(255) [not null]\n",
    "  categorie_produit varchar(100)\n",
    "}\n",
    "\n",
    "Table Clients {\n",
    "  id_client int [pk, increment] // Clé primaire\n",
    "  nom_client varchar(255) [not null]\n",
    "  ville_client varchar(100)\n",
    "}\n",
    "\n",
    "Table Magasins {\n",
    "  id_magasin int [pk, increment] // Clé primaire\n",
    "  nom_magasin varchar(255) [not null]\n",
    "  ville_magasin varchar(100)\n",
    "}\n",
    "```"
   ]
  },
  {
   "cell_type": "markdown",
   "metadata": {},
   "source": [
    "## Exercice 3.2"
   ]
  },
  {
   "cell_type": "markdown",
   "metadata": {},
   "source": [
    "<div style=\"text-align: center;\">\n",
    "    <img src=\"Exercice 3.2.svg\" width=\"800\">\n",
    "</div>"
   ]
  },
  {
   "cell_type": "markdown",
   "metadata": {},
   "source": [
    "```sql\n",
    "Table Produits {\n",
    "  id_produit int [pk, increment] // Clé primaire\n",
    "  nom_produit varchar(255) [not null]\n",
    "  marque varchar(100)\n",
    "  poids decimal(10,2) // Poids en kg\n",
    "  prix decimal(10,2) // Prix en €\n",
    "  id_type int [ref: > Types_Produits.id_type] // Clé étrangère vers Types_Produits\n",
    "}\n",
    "\n",
    "Table Types_Produits {\n",
    "  id_type int [pk, increment] // Clé primaire\n",
    "  nom_type varchar(100) [not null] // Ex: fruit, légume, produit laitier\n",
    "  id_categorie int [ref: > Categories.id_categorie] // Clé étrangère vers Categories\n",
    "}\n",
    "\n",
    "Table Categories {\n",
    "  id_categorie int [pk, increment] // Clé primaire\n",
    "  nom_categorie varchar(100) [not null] // Ex: frais, laitiers, céréales\n",
    "}\n",
    "```"
   ]
  },
  {
   "cell_type": "markdown",
   "metadata": {},
   "source": [
    "## Exercice 4"
   ]
  },
  {
   "cell_type": "markdown",
   "metadata": {},
   "source": [
    "<div style=\"text-align: center;\">\n",
    "    <img src=\"Exercice 4.svg\" width=\"800\">\n",
    "</div>"
   ]
  },
  {
   "cell_type": "markdown",
   "metadata": {},
   "source": [
    "```sql\n",
    "Table Commande {\n",
    "  id int [pk, increment] // Identifiant unique de la commande\n",
    "  date datetime [not null] // Date de la commande\n",
    "  mode_livraison varchar [not null] // Mode de livraison (express, standard, etc.)\n",
    "  adresse_livraison varchar [not null] // Adresse de livraison au moment de la commande\n",
    "  utilisateur_id int [ref: > Utilisateur.id] // Lien avec l'utilisateur\n",
    "}\n",
    "\n",
    "Table Utilisateur {\n",
    "  id int [pk, increment] // Identifiant unique de l'utilisateur\n",
    "  nom varchar [not null] // Nom de l'utilisateur\n",
    "  adresse varchar [not null] // Adresse actuelle de l'utilisateur\n",
    "}\n",
    "\n",
    "Table Produit {\n",
    "  id int [pk, increment] // Identifiant unique du produit\n",
    "  nom varchar [not null] // Nom du produit\n",
    "  type varchar [not null] // Type de produit (électronique, jeu vidéo, etc.)\n",
    "  marque varchar [not null] // Marque du produit\n",
    "  prix_unitaire float [not null] // Prix unitaire actuel\n",
    "  fournisseur_id int [ref: > Fournisseur.id] // Lien avec le fournisseur\n",
    "  id_jeu int [ref: > Jeu_Video.id, null] // Référence optionnelle au jeu vidéo\n",
    "}\n",
    "\n",
    "Table Fournisseur {\n",
    "  id int [pk, increment] // Identifiant unique du fournisseur\n",
    "  nom varchar [not null] // Nom du fournisseur\n",
    "  ville varchar [not null] // Ville du fournisseur\n",
    "}\n",
    "\n",
    "Table Commande_Produit {\n",
    "  id int [pk, increment] // Clé primaire\n",
    "  commande_id int [ref: > Commande.id] // Référence à la commande\n",
    "  produit_id int [ref: > Produit.id] // Référence au produit\n",
    "  quantite int [not null] // Quantité commandée\n",
    "  prix_unitaire_achat float [not null] // Prix du produit au moment de la commande\n",
    "}\n",
    "\n",
    "Table Jeu_Video {\n",
    "  id int [pk, increment] // Identifiant unique du jeu\n",
    "  nom varchar [not null] // Nom du jeu vidéo\n",
    "  console varchar [not null] // Console sur laquelle il est disponible\n",
    "  editeur varchar [not null] // Éditeur du jeu\n",
    "}\n",
    "```"
   ]
  },
  {
   "cell_type": "markdown",
   "metadata": {},
   "source": [
    "## Exercice 5"
   ]
  },
  {
   "cell_type": "markdown",
   "metadata": {},
   "source": [
    "<div style=\"text-align: center;\">\n",
    "    <img src=\"Exercice 5.svg\" width=\"800\">\n",
    "</div>"
   ]
  },
  {
   "cell_type": "markdown",
   "metadata": {},
   "source": [
    "```sql\n",
    "Table Utilisateur {\n",
    "  id int [pk, increment] // Clé primaire\n",
    "  nom varchar [not null]\n",
    "  email varchar [unique, not null]\n",
    "}\n",
    "\n",
    "Table Espece {\n",
    "  id int [pk, increment] // Clé primaire\n",
    "  nom_scientifique varchar [unique, not null]\n",
    "  nom_commun varchar\n",
    "  description text\n",
    "}\n",
    "\n",
    "Table Image {\n",
    "  id int [pk, increment] // Clé primaire\n",
    "  date_prise date [not null]\n",
    "  lieu varchar\n",
    "  appareil varchar\n",
    "  utilisateur_id int [ref: > Utilisateur.id] // Relation avec l'utilisateur\n",
    "}\n",
    "\n",
    "Table Observation {\n",
    "  id int [pk, increment] // Clé primaire\n",
    "  image_id int [ref: > Image.id] // Lien avec une image\n",
    "  utilisateur_id int [ref: > Utilisateur.id] // Lien avec un utilisateur\n",
    "  espece_id int [ref: > Espece.id] // Lien avec une espèce\n",
    "}\n",
    "\n",
    "Table Condition_Croissance {\n",
    "  id int [pk, increment] // Clé primaire\n",
    "  espece_id int [ref: > Espece.id] // Relation avec l'espèce\n",
    "  type varchar [not null] // Type de condition (ex: lumière, humidité, sol)\n",
    "  valeur varchar [not null] // Valeur spécifique (ex: \"Soleil\", \"Sol bien drainé\")\n",
    "}\n",
    "\n",
    "Table Maladie {\n",
    "  id int [pk, increment] // Clé primaire\n",
    "  espece_id int [ref: > Espece.id] // Relation avec l'espèce\n",
    "  nom varchar [not null]\n",
    "  description text\n",
    "}\n",
    "\n",
    "Table Traitement {\n",
    "  id int [pk, increment] // Clé primaire\n",
    "  maladie_id int [ref: > Maladie.id] // Relation avec une maladie\n",
    "  espece_id int [ref: > Espece.id] // Relation avec une espèce (au cas où un traitement s'applique à plusieurs maladies)\n",
    "  description text [not null]\n",
    "}\n",
    "```"
   ]
  }
 ],
 "metadata": {
  "kernelspec": {
   "display_name": ".venv",
   "language": "python",
   "name": "python3"
  },
  "language_info": {
   "codemirror_mode": {
    "name": "ipython",
    "version": 3
   },
   "file_extension": ".py",
   "mimetype": "text/x-python",
   "name": "python",
   "nbconvert_exporter": "python",
   "pygments_lexer": "ipython3",
   "version": "3.12.9"
  }
 },
 "nbformat": 4,
 "nbformat_minor": 2
}
