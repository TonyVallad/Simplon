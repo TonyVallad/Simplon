{
 "cells": [
  {
   "cell_type": "markdown",
   "metadata": {},
   "source": [
    "### **<h1 align=\"center\">Seaborn</h1>**"
   ]
  },
  {
   "cell_type": "markdown",
   "metadata": {},
   "source": [
    "## View graphs side by side"
   ]
  },
  {
   "cell_type": "markdown",
   "metadata": {},
   "source": [
    "### Example"
   ]
  },
  {
   "cell_type": "code",
   "execution_count": null,
   "metadata": {},
   "outputs": [],
   "source": [
    "import seaborn as sns\n",
    "import matplotlib.pyplot as plt\n",
    "\n",
    "fig, axs = plt.subplots(ncols=5, figsize=(30,5))\n",
    "sns.violinplot(x=\"survived\", y=\"age\", hue=\"sex\", data=data, ax=axs[0])\n",
    "sns.pointplot(x=\"sibsp\", y=\"survived\", hue=\"sex\", data=data, ax=axs[1])\n",
    "sns.pointplot(x=\"parch\", y=\"survived\", hue=\"sex\", data=data, ax=axs[2])\n",
    "sns.pointplot(x=\"pclass\", y=\"survived\", hue=\"sex\", data=data, ax=axs[3])\n",
    "sns.violinplot(x=\"survived\", y=\"fare\", hue=\"sex\", data=data, ax=axs[4])"
   ]
  },
  {
   "cell_type": "markdown",
   "metadata": {},
   "source": [
    "### Example with functions"
   ]
  },
  {
   "cell_type": "code",
   "execution_count": null,
   "metadata": {},
   "outputs": [],
   "source": [
    "def plot_histograms(data, grid_width=3, color='blue'):\n",
    "    \"\"\"\n",
    "    Plots histograms for all numeric features in the dataset in a grid layout.\n",
    "    \n",
    "    Parameters:\n",
    "    - data (pd.DataFrame): The dataset to plot.\n",
    "    - grid_width (int): Maximum number of plots per row.\n",
    "    - color (str): Color for the histograms.\n",
    "    \"\"\"\n",
    "    # Extract numeric columns\n",
    "    numeric_columns = data.select_dtypes(include=['float64', 'int64']).columns\n",
    "    n_cols = len(numeric_columns)\n",
    "    n_rows = math.ceil(n_cols / grid_width)\n",
    "\n",
    "    # Create subplots\n",
    "    fig, axes = plt.subplots(n_rows, grid_width, figsize=(grid_width * 5, n_rows * 4))\n",
    "    axes = axes.flatten()  # Flatten to handle axes dynamically\n",
    "\n",
    "    # Loop through features and plot histograms\n",
    "    for i, column in enumerate(numeric_columns):\n",
    "        sns.histplot(data=data, x=column, kde=True, bins=30, color=color, ax=axes[i])\n",
    "        axes[i].set_title(f\"Histogram of {column}\")\n",
    "        axes[i].set_xlabel(column)\n",
    "        axes[i].set_ylabel(\"Frequency\")\n",
    "        axes[i].grid(axis='y', linestyle='--', alpha=0.7)\n",
    "    \n",
    "    # Turn off unused subplots\n",
    "    for i in range(n_cols, len(axes)):\n",
    "        axes[i].set_visible(False)\n",
    "    \n",
    "    plt.tight_layout()\n",
    "    plt.show()\n",
    "\n",
    "def plot_violin_plots(data, grid_width=3, color='green'):\n",
    "    \"\"\"\n",
    "    Plots violin plots for all numeric features in the dataset in a grid layout.\n",
    "    \n",
    "    Parameters:\n",
    "    - data (pd.DataFrame): The dataset to plot.\n",
    "    - grid_width (int): Maximum number of plots per row.\n",
    "    - color (str): Color for the violin plots.\n",
    "    \"\"\"\n",
    "    # Extract numeric columns\n",
    "    numeric_columns = data.select_dtypes(include=['float64', 'int64']).columns\n",
    "    n_cols = len(numeric_columns)\n",
    "    n_rows = math.ceil(n_cols / grid_width)\n",
    "\n",
    "    # Create subplots\n",
    "    fig, axes = plt.subplots(n_rows, grid_width, figsize=(grid_width * 5, n_rows * 4))\n",
    "    axes = axes.flatten()  # Flatten to handle axes dynamically\n",
    "\n",
    "    # Loop through features and plot violin plots\n",
    "    for i, column in enumerate(numeric_columns):\n",
    "        sns.violinplot(data=data, x=column, color=color, ax=axes[i])\n",
    "        axes[i].set_title(f\"Violin Plot of {column}\")\n",
    "        axes[i].set_xlabel(column)\n",
    "        axes[i].grid(axis='y', linestyle='--', alpha=0.7)\n",
    "    \n",
    "    # Turn off unused subplots\n",
    "    for i in range(n_cols, len(axes)):\n",
    "        axes[i].set_visible(False)\n",
    "    \n",
    "    plt.tight_layout()\n",
    "    plt.show()"
   ]
  },
  {
   "cell_type": "markdown",
   "metadata": {},
   "source": [
    "## Colors"
   ]
  },
  {
   "cell_type": "markdown",
   "metadata": {},
   "source": [
    "### Color palettes (gradients)"
   ]
  },
  {
   "cell_type": "markdown",
   "metadata": {},
   "source": [
    "https://seaborn.pydata.org/tutorial/color_palettes.html"
   ]
  },
  {
   "cell_type": "markdown",
   "metadata": {},
   "source": [
    "### Full List of Named Colors"
   ]
  },
  {
   "cell_type": "markdown",
   "metadata": {},
   "source": [
    "\n",
    "Here’s a list of all available named colors in **Matplotlib** that you can use for customizing your plots:"
   ]
  },
  {
   "cell_type": "markdown",
   "metadata": {},
   "source": [
    "#### Basic Colors:"
   ]
  },
  {
   "cell_type": "markdown",
   "metadata": {},
   "source": [
    "- `'blue'`\n",
    "- `'red'`\n",
    "- `'green'`\n",
    "- `'orange'`\n",
    "- `'purple'`\n",
    "- `'yellow'`\n",
    "- `'pink'`\n",
    "- `'brown'`\n",
    "- `'black'`\n",
    "- `'white'`\n",
    "- `'gray'`\n",
    "- `'cyan'`\n",
    "- `'magenta'`"
   ]
  },
  {
   "cell_type": "markdown",
   "metadata": {},
   "source": [
    "#### Extended Named Colors:"
   ]
  },
  {
   "cell_type": "markdown",
   "metadata": {},
   "source": [
    "- `'aliceblue'`\n",
    "- `'antiquewhite'`\n",
    "- `'aqua'`\n",
    "- `'aquamarine'`\n",
    "- `'azure'`\n",
    "- `'beige'`\n",
    "- `'bisque'`\n",
    "- `'blanchedalmond'`\n",
    "- `'blueviolet'`\n",
    "- `'burlywood'`\n",
    "- `'cadetblue'`\n",
    "- `'chartreuse'`\n",
    "- `'chocolate'`\n",
    "- `'coral'`\n",
    "- `'cornflowerblue'`\n",
    "- `'cornsilk'`\n",
    "- `'crimson'`\n",
    "- `'darkblue'`\n",
    "- `'darkcyan'`\n",
    "- `'darkgoldenrod'`\n",
    "- `'darkgray'`\n",
    "- `'darkgreen'`\n",
    "- `'darkkhaki'`\n",
    "- `'darkmagenta'`\n",
    "- `'darkolivegreen'`\n",
    "- `'darkorange'`\n",
    "- `'darkorchid'`\n",
    "- `'darkred'`\n",
    "- `'darksalmon'`\n",
    "- `'darkseagreen'`\n",
    "- `'darkslateblue'`\n",
    "- `'darkslategray'`\n",
    "- `'darkturquoise'`\n",
    "- `'darkviolet'`\n",
    "- `'deeppink'`\n",
    "- `'deepskyblue'`\n",
    "- `'dimgray'`\n",
    "- `'dodgerblue'`\n",
    "- `'firebrick'`\n",
    "- `'floralwhite'`\n",
    "- `'forestgreen'`\n",
    "- `'fuchsia'`\n",
    "- `'gainsboro'`\n",
    "- `'ghostwhite'`\n",
    "- `'gold'`\n",
    "- `'goldenrod'`\n",
    "- `'greenyellow'`\n",
    "- `'honeydew'`\n",
    "- `'hotpink'`\n",
    "- `'indianred'`\n",
    "- `'indigo'`\n",
    "- `'ivory'`\n",
    "- `'khaki'`\n",
    "- `'lavender'`\n",
    "- `'lavenderblush'`\n",
    "- `'lawngreen'`\n",
    "- `'lemonchiffon'`\n",
    "- `'lightblue'`\n",
    "- `'lightcoral'`\n",
    "- `'lightcyan'`\n",
    "- `'lightgoldenrodyellow'`\n",
    "- `'lightgray'`\n",
    "- `'lightgreen'`\n",
    "- `'lightpink'`\n",
    "- `'lightsalmon'`\n",
    "- `'lightseagreen'`\n",
    "- `'lightskyblue'`\n",
    "- `'lightslategray'`\n",
    "- `'lightsteelblue'`\n",
    "- `'lightyellow'`\n",
    "- `'lime'`\n",
    "- `'limegreen'`\n",
    "- `'linen'`\n",
    "- `'maroon'`\n",
    "- `'mediumaquamarine'`\n",
    "- `'mediumblue'`\n",
    "- `'mediumorchid'`\n",
    "- `'mediumpurple'`\n",
    "- `'mediumseagreen'`\n",
    "- `'mediumslateblue'`\n",
    "- `'mediumspringgreen'`\n",
    "- `'mediumturquoise'`\n",
    "- `'mediumvioletred'`\n",
    "- `'midnightblue'`\n",
    "- `'mintcream'`\n",
    "- `'mistyrose'`\n",
    "- `'moccasin'`\n",
    "- `'navajowhite'`\n",
    "- `'navy'`\n",
    "- `'oldlace'`\n",
    "- `'olive'`\n",
    "- `'olivedrab'`\n",
    "- `'orange'`\n",
    "- `'orangered'`\n",
    "- `'orchid'`\n",
    "- `'palegoldenrod'`\n",
    "- `'palegreen'`\n",
    "- `'paleturquoise'`\n",
    "- `'palevioletred'`\n",
    "- `'papayawhip'`\n",
    "- `'peachpuff'`\n",
    "- `'peru'`\n",
    "- `'plum'`\n",
    "- `'powderblue'`\n",
    "- `'rebeccapurple'`\n",
    "- `'rosybrown'`\n",
    "- `'royalblue'`\n",
    "- `'saddlebrown'`\n",
    "- `'salmon'`\n",
    "- `'sandybrown'`\n",
    "- `'seagreen'`\n",
    "- `'seashell'`\n",
    "- `'sienna'`\n",
    "- `'silver'`\n",
    "- `'skyblue'`\n",
    "- `'slateblue'`\n",
    "- `'slategray'`\n",
    "- `'snow'`\n",
    "- `'springgreen'`\n",
    "- `'steelblue'`\n",
    "- `'tan'`\n",
    "- `'teal'`\n",
    "- `'thistle'`\n",
    "- `'tomato'`\n",
    "- `'turquoise'`\n",
    "- `'violet'`\n",
    "- `'wheat'`\n",
    "- `'whitesmoke'`\n",
    "- `'yellowgreen'`"
   ]
  },
  {
   "cell_type": "markdown",
   "metadata": {},
   "source": [
    "#### How to Use in Plots"
   ]
  },
  {
   "cell_type": "markdown",
   "metadata": {},
   "source": [
    "You can specify any of these color names as the `color` parameter in **Matplotlib** or **Seaborn** plots:\n",
    "```python\n",
    "sns.histplot(data=california_housing_df, x='MedInc', color='deepskyblue')\n",
    "sns.violinplot(data=california_housing_df, x='MedInc', color='lightgreen')\n",
    "```"
   ]
  }
 ],
 "metadata": {
  "kernelspec": {
   "display_name": ".venv",
   "language": "python",
   "name": "python3"
  },
  "language_info": {
   "codemirror_mode": {
    "name": "ipython",
    "version": 3
   },
   "file_extension": ".py",
   "mimetype": "text/x-python",
   "name": "python",
   "nbconvert_exporter": "python",
   "pygments_lexer": "ipython3",
   "version": "3.12.7"
  }
 },
 "nbformat": 4,
 "nbformat_minor": 2
}
