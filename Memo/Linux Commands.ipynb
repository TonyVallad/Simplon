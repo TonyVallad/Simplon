{
 "cells": [
  {
   "cell_type": "markdown",
   "metadata": {},
   "source": [
    "**<h1 align=\"center\">Useful Linux Commands</h1>**"
   ]
  },
  {
   "cell_type": "markdown",
   "metadata": {},
   "source": [
    "## System Monitoring & Performance\n",
    "\n",
    "Commands to monitor system resources, processes, and performance."
   ]
  },
  {
   "cell_type": "code",
   "execution_count": null,
   "metadata": {},
   "outputs": [],
   "source": [
    "# System information\n",
    "neofetch                    # Stylized system information display\n",
    "uname -a                    # Complete system information\n",
    "lscpu                       # CPU information\n",
    "lsb_release -a              # Distribution information"
   ]
  },
  {
   "cell_type": "code",
   "execution_count": null,
   "metadata": {},
   "outputs": [],
   "source": [
    "# Process monitoring\n",
    "htop                        # Interactive process viewer (better than top)\n",
    "top -i                      # Display top CPU processes (excluding idle)\n",
    "ps aux                      # Show all running processes\n",
    "ps -ef | grep main.py       # Find processes containing 'main.py'\n",
    "pgrep -f python             # Find process IDs for processes containing 'python'\n",
    "killall python              # Kill all processes named 'python'\n",
    "kill -9 <PID>               # Force kill a process by PID"
   ]
  },
  {
   "cell_type": "code",
   "execution_count": null,
   "metadata": {},
   "outputs": [],
   "source": [
    "# Memory usage\n",
    "free -h                     # Display memory usage (human readable)\n",
    "vmstat                      # Virtual memory statistics\n",
    "cat /proc/meminfo           # Detailed memory information"
   ]
  },
  {
   "cell_type": "code",
   "execution_count": null,
   "metadata": {},
   "outputs": [],
   "source": [
    "# GPU monitoring (NVIDIA)\n",
    "nvidia-smi                  # NVIDIA GPU status and usage\n",
    "nvtop                       # Interactive GPU process viewer\n",
    "watch -n 1 nvidia-smi       # Monitor GPU usage every second"
   ]
  },
  {
   "cell_type": "markdown",
   "metadata": {},
   "source": [
    "## Disk & Storage Management\n",
    "\n",
    "Commands for managing disk space and storage."
   ]
  },
  {
   "cell_type": "code",
   "execution_count": null,
   "metadata": {},
   "outputs": [],
   "source": [
    "# Disk usage\n",
    "df -h                       # Show disk space usage (human readable)\n",
    "du -h                       # Show directory/file sizes (human readable)\n",
    "du -sh *                    # Show size of all items in current directory\n",
    "du -h --max-depth=1         # Show directory sizes one level deep\n",
    "ncdu                        # Interactive disk usage analyzer\n",
    "lsblk                       # List block devices in tree format"
   ]
  },
  {
   "cell_type": "code",
   "execution_count": null,
   "metadata": {},
   "outputs": [],
   "source": [
    "# Find large files\n",
    "find / -type f -size +100M 2>/dev/null    # Find files larger than 100MB\n",
    "find . -name \"*.log\" -size +10M            # Find log files larger than 10MB\n",
    "du -a /home | sort -n -r | head -n 10      # Top 10 largest files in /home"
   ]
  },
  {
   "cell_type": "markdown",
   "metadata": {},
   "source": [
    "## File Operations\n",
    "\n",
    "Essential commands for file and directory manipulation."
   ]
  },
  {
   "cell_type": "code",
   "execution_count": null,
   "metadata": {},
   "outputs": [],
   "source": [
    "# Navigation and listing\n",
    "ls -la                      # List all files with permissions and hidden files\n",
    "ls -lth                     # List files sorted by modification time (newest first)\n",
    "tree                        # Display directory structure as tree\n",
    "pwd                         # Print current directory\n",
    "cd -                        # Go to previous directory"
   ]
  },
  {
   "cell_type": "code",
   "execution_count": null,
   "metadata": {},
   "outputs": [],
   "source": [
    "# File operations\n",
    "cp -r source/ destination/  # Copy directory recursively\n",
    "rsync -av source/ dest/     # Sync directories (better than cp for large transfers)\n",
    "mv oldname newname          # Rename/move file\n",
    "rm -rf directory/           # Remove directory and contents recursively\n",
    "mkdir -p path/to/dir        # Create directory structure\n",
    "touch filename              # Create empty file or update timestamp"
   ]
  },
  {
   "cell_type": "code",
   "execution_count": null,
   "metadata": {},
   "outputs": [],
   "source": [
    "# File permissions\n",
    "chmod +x script.sh          # Make file executable\n",
    "chmod 755 file              # Set permissions (rwxr-xr-x)\n",
    "chown user:group file       # Change file ownership\n",
    "chown -R user:group dir/    # Change ownership recursively"
   ]
  },
  {
   "cell_type": "markdown",
   "metadata": {},
   "source": [
    "## Text Processing & Search\n",
    "\n",
    "Powerful commands for searching and manipulating text."
   ]
  },
  {
   "cell_type": "code",
   "execution_count": null,
   "metadata": {},
   "outputs": [],
   "source": [
    "# Text search\n",
    "grep -r \"pattern\" /path/    # Search for pattern recursively in directory\n",
    "grep -i \"case_insensitive\"  # Case-insensitive search\n",
    "grep -n \"pattern\" file      # Show line numbers with matches\n",
    "grep -v \"pattern\" file      # Show lines that DON'T match pattern\n",
    "find . -name \"*.py\" -exec grep -l \"import pandas\" {} \\;  # Find Python files containing pandas import"
   ]
  },
  {
   "cell_type": "code",
   "execution_count": null,
   "metadata": {},
   "outputs": [],
   "source": [
    "# File viewing\n",
    "cat file.txt                # Display entire file\n",
    "head -n 20 file.txt         # Show first 20 lines\n",
    "tail -n 20 file.txt         # Show last 20 lines\n",
    "tail -f logfile.log         # Follow file changes (useful for logs)\n",
    "less file.txt               # Page through file (better than more)\n",
    "wc -l file.txt              # Count lines in file"
   ]
  },
  {
   "cell_type": "code",
   "execution_count": null,
   "metadata": {},
   "outputs": [],
   "source": [
    "# Text manipulation\n",
    "sed 's/old/new/g' file.txt  # Replace 'old' with 'new' in file\n",
    "awk '{print $1}' file.txt   # Print first column of file\n",
    "sort file.txt               # Sort lines alphabetically\n",
    "uniq file.txt               # Remove duplicate lines\n",
    "cut -d',' -f1 file.csv      # Extract first column from CSV"
   ]
  },
  {
   "cell_type": "markdown",
   "metadata": {},
   "source": [
    "## Network & Connectivity\n",
    "\n",
    "Commands for network monitoring and troubleshooting."
   ]
  },
  {
   "cell_type": "code",
   "execution_count": null,
   "metadata": {},
   "outputs": [],
   "source": [
    "# Network information\n",
    "ip addr show                # Show network interfaces and IP addresses\n",
    "ifconfig                    # Display network interface configuration\n",
    "netstat -tuln               # Show listening ports\n",
    "ss -tuln                    # Modern replacement for netstat\n",
    "lsof -i :8080               # See what's using port 8080"
   ]
  },
  {
   "cell_type": "code",
   "execution_count": null,
   "metadata": {},
   "outputs": [],
   "source": [
    "# Network testing\n",
    "ping google.com             # Test connectivity to host\n",
    "traceroute google.com       # Trace route to destination\n",
    "wget https://example.com/file  # Download file from URL\n",
    "curl -I https://example.com    # Get HTTP headers\n",
    "speedtest-cli               # Test internet speed"
   ]
  },
  {
   "cell_type": "markdown",
   "metadata": {},
   "source": [
    "## Archive & Compression\n",
    "\n",
    "Commands for creating and extracting archives."
   ]
  },
  {
   "cell_type": "code",
   "execution_count": null,
   "metadata": {},
   "outputs": [],
   "source": [
    "# Tar archives\n",
    "tar -czf archive.tar.gz directory/     # Create compressed tar archive\n",
    "tar -xzf archive.tar.gz                # Extract compressed tar archive\n",
    "tar -tzf archive.tar.gz                # List contents of tar archive\n",
    "tar -xzf archive.tar.gz -C /path/      # Extract to specific directory"
   ]
  },
  {
   "cell_type": "code",
   "execution_count": null,
   "metadata": {},
   "outputs": [],
   "source": [
    "# Zip archives\n",
    "zip -r archive.zip directory/          # Create zip archive\n",
    "unzip archive.zip                      # Extract zip archive\n",
    "unzip -l archive.zip                   # List contents of zip archive"
   ]
  },
  {
   "cell_type": "markdown",
   "metadata": {},
   "source": [
    "## System Services & Processes\n",
    "\n",
    "Managing system services and background processes."
   ]
  },
  {
   "cell_type": "code",
   "execution_count": null,
   "metadata": {},
   "outputs": [],
   "source": [
    "# Systemd services\n",
    "sudo systemctl status apache2         # Check service status\n",
    "sudo systemctl start apache2          # Start service\n",
    "sudo systemctl stop apache2           # Stop service\n",
    "sudo systemctl restart apache2        # Restart service\n",
    "sudo systemctl enable apache2         # Enable service at boot\n",
    "sudo systemctl disable apache2        # Disable service at boot"
   ]
  },
  {
   "cell_type": "code",
   "execution_count": null,
   "metadata": {},
   "outputs": [],
   "source": [
    "# Background processes\n",
    "nohup python script.py &               # Run command in background, immune to hangups\n",
    "screen -S session_name                 # Create named screen session\n",
    "tmux new -s session_name               # Create named tmux session\n",
    "jobs                                   # List background jobs\n",
    "fg %1                                  # Bring background job to foreground"
   ]
  },
  {
   "cell_type": "markdown",
   "metadata": {},
   "source": [
    "## Environment & Variables\n",
    "\n",
    "Working with environment variables and system configuration."
   ]
  },
  {
   "cell_type": "code",
   "execution_count": null,
   "metadata": {},
   "outputs": [],
   "source": [
    "# Environment variables\n",
    "env                                    # Show all environment variables\n",
    "echo $PATH                             # Display PATH variable\n",
    "export VAR=value                       # Set environment variable\n",
    "which python                           # Find location of command\n",
    "whereis python                         # Find binary, source, and manual page locations"
   ]
  },
  {
   "cell_type": "code",
   "execution_count": null,
   "metadata": {},
   "outputs": [],
   "source": [
    "# System information\n",
    "whoami                                 # Current username\n",
    "id                                     # User and group IDs\n",
    "w                                      # Who is logged on and what they're doing\n",
    "last                                   # Show last logins\n",
    "uptime                                 # System uptime and load average"
   ]
  },
  {
   "cell_type": "markdown",
   "metadata": {},
   "source": [
    "## Useful Shortcuts & Tips\n",
    "\n",
    "Keyboard shortcuts and command combinations that boost productivity."
   ]
  },
  {
   "cell_type": "code",
   "execution_count": null,
   "metadata": {},
   "outputs": [],
   "source": [
    "# Command line shortcuts\n",
    "# Ctrl+C          - Cancel current command\n",
    "# Ctrl+Z          - Suspend current command\n",
    "# Ctrl+D          - Exit current shell\n",
    "# Ctrl+L          - Clear screen\n",
    "# Ctrl+R          - Search command history\n",
    "# Tab             - Auto-complete\n",
    "# !!              - Repeat last command\n",
    "# !$              - Last argument of previous command\n",
    "# cd -            - Go to previous directory"
   ]
  },
  {
   "cell_type": "code",
   "execution_count": null,
   "metadata": {},
   "outputs": [],
   "source": [
    "# Useful command combinations\n",
    "history | grep \"git\"                   # Search command history for 'git'\n",
    "ps aux | grep python | grep -v grep    # Find python processes (exclude grep itself)\n",
    "df -h | grep -E \"(Filesystem|/dev/)\"   # Show only mounted filesystems\n",
    "find . -name \"*.log\" | xargs rm        # Find and delete all .log files\n",
    "cat /proc/cpuinfo | grep processor | wc -l  # Count CPU cores"
   ]
  },
  {
   "cell_type": "markdown",
   "metadata": {},
   "source": [
    "## Package Management\n",
    "\n",
    "Commands for different package managers."
   ]
  },
  {
   "cell_type": "code",
   "execution_count": null,
   "metadata": {},
   "outputs": [],
   "source": [
    "# Ubuntu/Debian (apt)\n",
    "sudo apt update                        # Update package list\n",
    "sudo apt upgrade                       # Upgrade all packages\n",
    "sudo apt install package_name          # Install package\n",
    "sudo apt remove package_name           # Remove package\n",
    "apt search keyword                     # Search for packages\n",
    "apt list --installed                   # List installed packages"
   ]
  },
  {
   "cell_type": "code",
   "execution_count": null,
   "metadata": {},
   "outputs": [],
   "source": [
    "# CentOS/RHEL (yum/dnf)\n",
    "sudo yum update                        # Update all packages\n",
    "sudo yum install package_name          # Install package\n",
    "sudo yum remove package_name           # Remove package\n",
    "yum search keyword                     # Search for packages"
   ]
  },
  {
   "cell_type": "code",
   "execution_count": null,
   "metadata": {},
   "outputs": [],
   "source": [
    "# Snap packages\n",
    "snap list                              # List installed snap packages\n",
    "sudo snap install package_name         # Install snap package\n",
    "sudo snap remove package_name          # Remove snap package"
   ]
  },
  {
   "cell_type": "markdown",
   "metadata": {},
   "source": [
    "## Log Analysis\n",
    "\n",
    "Commands for viewing and analyzing system logs."
   ]
  },
  {
   "cell_type": "code",
   "execution_count": null,
   "metadata": {},
   "outputs": [],
   "source": [
    "# System logs\n",
    "sudo journalctl                       # View systemd logs\n",
    "sudo journalctl -u apache2             # View logs for specific service\n",
    "sudo journalctl -f                     # Follow logs in real-time\n",
    "sudo journalctl --since \"1 hour ago\"   # View recent logs\n",
    "tail -f /var/log/syslog                # Follow system log\n",
    "dmesg | tail                           # Show recent kernel messages"
   ]
  },
  {
   "cell_type": "markdown",
   "metadata": {},
   "source": [
    "## Security & Permissions\n",
    "\n",
    "Commands related to system security and file permissions."
   ]
  },
  {
   "cell_type": "code",
   "execution_count": null,
   "metadata": {},
   "outputs": [],
   "source": [
    "# User management\n",
    "sudo adduser username                 # Add new user\n",
    "sudo usermod -aG sudo username        # Add user to sudo group\n",
    "su - username                         # Switch to another user\n",
    "sudo -u username command              # Run command as another user"
   ]
  },
  {
   "cell_type": "code",
   "execution_count": null,
   "metadata": {},
   "outputs": [],
   "source": [
    "# File security\n",
    "find /path -perm 777                  # Find files with 777 permissions\n",
    "find /path -type f -perm /u+s         # Find files with SUID bit set\n",
    "lsattr filename                       # List file attributes\n",
    "chattr +i filename                    # Make file immutable"
   ]
  }
 ],
 "metadata": {
  "kernelspec": {
   "display_name": "Bash",
   "language": "bash",
   "name": "bash"
  },
  "language_info": {
   "codemirror_mode": "shell",
   "file_extension": ".sh",
   "mimetype": "text/x-sh",
   "name": "bash"
  }
 },
 "nbformat": 4,
 "nbformat_minor": 2
}
