{
 "cells": [
  {
   "cell_type": "markdown",
   "metadata": {},
   "source": [
    "**<h1 align=\"center\">SCRUM Methodology</h1>**"
   ]
  },
  {
   "cell_type": "markdown",
   "metadata": {},
   "source": [
    "## What is SCRUM"
   ]
  },
  {
   "cell_type": "markdown",
   "metadata": {},
   "source": [
    "The **SCRUM methodology** is an Agile framework used for managing and completing complex projects. It emphasizes teamwork, iterative progress, and delivering incremental improvements to a product. Here's a detailed overview:"
   ]
  },
  {
   "cell_type": "markdown",
   "metadata": {},
   "source": [
    "### **Core Principles of SCRUM**"
   ]
  },
  {
   "cell_type": "markdown",
   "metadata": {},
   "source": [
    "1. **Empirical Process Control**: SCRUM is based on transparency, inspection, and adaptation.\n",
    "2. **Iterative and Incremental**: Work is broken into small chunks (sprints), allowing frequent adjustments based on feedback.\n",
    "3. **Collaboration**: Strong emphasis on communication and teamwork."
   ]
  },
  {
   "cell_type": "markdown",
   "metadata": {},
   "source": [
    "### **Key Roles in SCRUM**"
   ]
  },
  {
   "cell_type": "markdown",
   "metadata": {},
   "source": [
    "1. **Scrum Master**:\n",
    "   - Acts as a facilitator and ensures that the SCRUM process is followed.\n",
    "   - Removes impediments to the team's progress.\n",
    "   - Coaches the team to improve productivity and efficiency.\n",
    "   \n",
    "2. **Product Owner**:\n",
    "   - Represents the stakeholders and customers.\n",
    "   - Manages the **Product Backlog**, ensuring it is prioritized and clear.\n",
    "   - Communicates the vision and goals of the product to the team.\n",
    "\n",
    "3. **Development Team**:\n",
    "   - A cross-functional group responsible for delivering the product increments.\n",
    "   - Self-organizes to determine how to accomplish the work."
   ]
  },
  {
   "cell_type": "markdown",
   "metadata": {},
   "source": [
    "### **Artifacts in SCRUM**"
   ]
  },
  {
   "cell_type": "markdown",
   "metadata": {},
   "source": [
    "1. **Product Backlog**:\n",
    "   - A prioritized list of features, functionalities, and fixes required in the product.\n",
    "   - Each item is represented as a **User Story**, describing the user's needs.\n",
    "\n",
    "2. **Sprint Backlog**:\n",
    "   - A subset of the Product Backlog selected for a sprint.\n",
    "   - Includes tasks needed to complete the sprint goals.\n",
    "\n",
    "3. **Increment**:\n",
    "   - The deliverable product output at the end of each sprint, potentially shippable."
   ]
  },
  {
   "cell_type": "markdown",
   "metadata": {},
   "source": [
    "### **Key Events in SCRUM**"
   ]
  },
  {
   "cell_type": "markdown",
   "metadata": {},
   "source": [
    "1. **Sprint Planning**:\n",
    "   - A meeting where the team selects Product Backlog items to complete in the sprint.\n",
    "   - Tasks are broken down and estimated using techniques like **Planning Poker**.\n",
    "\n",
    "2. **Daily Stand-Up (Daily SCRUM)**:\n",
    "   - A short (15-minute) meeting to discuss progress, impediments, and plans for the day.\n",
    "\n",
    "3. **Sprint Review**:\n",
    "   - A meeting at the end of the sprint to demonstrate the increment to stakeholders.\n",
    "   - Feedback is collected to refine the Product Backlog.\n",
    "\n",
    "4. **Sprint Retrospective**:\n",
    "   - A team meeting to reflect on the sprint.\n",
    "   - Identifies what went well, what didn’t, and how to improve in the next sprint.\n",
    "\n",
    "5. **Sprint**:\n",
    "   - A fixed timebox (usually 1-4 weeks) during which a product increment is developed.\n",
    "   - Sprints are continuous, with one starting immediately after the previous ends."
   ]
  },
  {
   "cell_type": "markdown",
   "metadata": {},
   "source": [
    "### **SCRUM Process Flow**"
   ]
  },
  {
   "cell_type": "markdown",
   "metadata": {},
   "source": [
    "1. **Start** with the Product Backlog.\n",
    "2. **Sprint Planning** identifies the Sprint Backlog.\n",
    "3. The Development Team works on tasks during the **Sprint**.\n",
    "4. **Daily Stand-Ups** ensure alignment.\n",
    "5. The **Sprint Review** showcases the increment to stakeholders.\n",
    "6. The **Sprint Retrospective** evaluates the process for improvements.\n",
    "7. The cycle repeats."
   ]
  },
  {
   "cell_type": "markdown",
   "metadata": {},
   "source": [
    "### **Techniques Used in SCRUM**"
   ]
  },
  {
   "cell_type": "markdown",
   "metadata": {},
   "source": [
    "1. **User Stories**: Written from the user's perspective (e.g., \"As a user, I want to…\").\n",
    "2. **MoSCoW Prioritization**:\n",
    "   - Must Have\n",
    "   - Should Have\n",
    "   - Could Have\n",
    "   - Won't Have\n",
    "3. **Planning Poker**: Estimation technique using a consensus-driven approach.\n",
    "4. **Burndown Charts**: Visual representation of remaining work in a sprint."
   ]
  },
  {
   "cell_type": "markdown",
   "metadata": {},
   "source": [
    "### **Benefits of SCRUM**"
   ]
  },
  {
   "cell_type": "markdown",
   "metadata": {},
   "source": [
    "1. **Flexibility**: Adapts to changing requirements.\n",
    "2. **Transparency**: Frequent reviews ensure stakeholders are informed.\n",
    "3. **Continuous Improvement**: Retrospectives foster learning and adaptation.\n",
    "4. **Faster Delivery**: Incremental releases deliver value early and often."
   ]
  }
 ],
 "metadata": {
  "kernelspec": {
   "display_name": ".venv",
   "language": "python",
   "name": "python3"
  },
  "language_info": {
   "codemirror_mode": {
    "name": "ipython",
    "version": 3
   },
   "file_extension": ".py",
   "mimetype": "text/x-python",
   "name": "python",
   "nbconvert_exporter": "python",
   "pygments_lexer": "ipython3",
   "version": "3.12.7"
  }
 },
 "nbformat": 4,
 "nbformat_minor": 2
}
