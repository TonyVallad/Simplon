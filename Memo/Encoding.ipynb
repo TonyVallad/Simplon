{
 "cells": [
  {
   "cell_type": "markdown",
   "metadata": {},
   "source": [
    "### **<h1 align=\"center\">Encoding</h1>**"
   ]
  },
  {
   "cell_type": "markdown",
   "metadata": {},
   "source": [
    "Encoding techniques are used to convert categorical data into a numerical format that machine learning algorithms can process. Categorical data is often found in features like gender, city, or product category, and needs to be transformed before applying algorithms that expect numerical inputs. Here are the most common encoding techniques:"
   ]
  },
  {
   "cell_type": "markdown",
   "metadata": {},
   "source": [
    "## 1. One-Hot Encoding\n",
    "\n",
    "One-hot encoding creates binary columns for each unique category in a feature. It assigns 1 to the relevant category column and 0 to others. This is the most widely used encoding technique for nominal (non-ordinal) categorical variables.\n",
    "\n",
    "#### Example:\n",
    "If you have a column with three categories: ['Red', 'Blue', 'Green'], one-hot encoding will create three new columns: Red, Blue, and Green.\n",
    "\n",
    "#### Python Example:"
   ]
  },
  {
   "cell_type": "code",
   "execution_count": null,
   "metadata": {},
   "outputs": [],
   "source": [
    "import pandas as pd\n",
    "from sklearn.preprocessing import OneHotEncoder\n",
    "\n",
    "# Sample dataset\n",
    "data = pd.DataFrame({'Color': ['Red', 'Blue', 'Green', 'Blue']})\n",
    "\n",
    "# Create an instance of OneHotEncoder\n",
    "encoder = OneHotEncoder(sparse=False)\n",
    "\n",
    "# Fit and transform the data\n",
    "encoded_data = encoder.fit_transform(data[['Color']])\n",
    "print(encoded_data)"
   ]
  },
  {
   "cell_type": "markdown",
   "metadata": {},
   "source": [
    "#### Pros:\n",
    "Simple to implement and works well with nominal categorical data.\n",
    "Widely supported by many libraries.\n",
    "#### Cons:\n",
    "Increases the dimensionality of the dataset, which can lead to memory and computational inefficiencies for high-cardinality features."
   ]
  },
  {
   "cell_type": "markdown",
   "metadata": {},
   "source": [
    "## 2. Label Encoding\n",
    "Label encoding assigns each category a unique integer. This is a simple and efficient way to encode ordinal variables where the order matters (e.g., low, medium, high).\n",
    "\n",
    "#### Python Example:"
   ]
  },
  {
   "cell_type": "code",
   "execution_count": null,
   "metadata": {},
   "outputs": [],
   "source": [
    "from sklearn.preprocessing import LabelEncoder\n",
    "\n",
    "# Sample dataset\n",
    "data = pd.DataFrame({'Size': ['Small', 'Medium', 'Large', 'Medium']})\n",
    "\n",
    "# Create an instance of LabelEncoder\n",
    "label_encoder = LabelEncoder()\n",
    "\n",
    "# Fit and transform the data\n",
    "encoded_data = label_encoder.fit_transform(data['Size'])\n",
    "print(encoded_data)"
   ]
  },
  {
   "cell_type": "markdown",
   "metadata": {},
   "source": [
    "#### Pros:\n",
    "Easy to implement and works well with ordinal features.\n",
    "\n",
    "#### Cons:\n",
    "Introduces an implicit ordinal relationship between categories, which might not be appropriate for nominal features."
   ]
  },
  {
   "cell_type": "markdown",
   "metadata": {},
   "source": [
    "## 3. Ordinal Encoding\n",
    "For features with a meaningful order, like ratings (e.g., poor, average, good), ordinal encoding assigns integers based on their order. This is useful for data where the order matters but the differences between values are not necessarily equidistant.\n",
    "\n",
    "#### Python Example:"
   ]
  },
  {
   "cell_type": "code",
   "execution_count": null,
   "metadata": {},
   "outputs": [],
   "source": [
    "import pandas as pd\n",
    "from sklearn.preprocessing import OrdinalEncoder\n",
    "\n",
    "# Sample dataset\n",
    "data = pd.DataFrame({'Size': ['Small', 'Medium', 'Large', 'Medium']})\n",
    "\n",
    "# Define ordering for the 'Size' column\n",
    "size_order = ['Small', 'Medium', 'Large']\n",
    "\n",
    "# Create an instance of OrdinalEncoder with custom categories\n",
    "ordinal_encoder = OrdinalEncoder(categories=[size_order])\n",
    "\n",
    "# Fit and transform the data\n",
    "encoded_data = ordinal_encoder.fit_transform(data[['Size']])\n",
    "print(encoded_data)"
   ]
  },
  {
   "cell_type": "markdown",
   "metadata": {},
   "source": [
    "## 4. Target Encoding (Mean Encoding)\n",
    "Target encoding replaces categorical values with the mean of the target variable for each category. It’s used primarily with supervised learning tasks.\n",
    "\n",
    "#### Python Example:"
   ]
  },
  {
   "cell_type": "code",
   "execution_count": null,
   "metadata": {},
   "outputs": [],
   "source": [
    "import pandas as pd\n",
    "\n",
    "# Sample dataset\n",
    "data = pd.DataFrame({'City': ['Paris', 'London', 'Paris', 'Berlin', 'London'],\n",
    "                 \t'House Price': [450000, 350000, 470000, 300000, 400000]})\n",
    "\n",
    "# Calculate mean price for each city\n",
    "target_mean_encoding = data.groupby('City')['House Price'].mean()\n",
    "\n",
    "# Map the mean price to the City column\n",
    "data['City_Encoded'] = data['City'].map(target_mean_encoding)\n",
    "print(data)"
   ]
  },
  {
   "cell_type": "markdown",
   "metadata": {},
   "source": [
    "#### Pros:\n",
    "Helps reduce the dimensionality of the dataset.\n",
    "Works well with high-cardinality categorical features.\n",
    "\n",
    "#### Cons:\n",
    "Prone to target leakage if not handled carefully, as this technique uses target variable information."
   ]
  },
  {
   "cell_type": "markdown",
   "metadata": {},
   "source": [
    "## 5. Frequency Encoding\n",
    "Frequency encoding replaces each category with the number of occurrences (or frequency) of that category in the dataset. This is helpful when higher frequency values are likely to have more significance.\n",
    "\n",
    "#### Python Example:"
   ]
  },
  {
   "cell_type": "code",
   "execution_count": null,
   "metadata": {},
   "outputs": [],
   "source": [
    "import pandas as pd\n",
    "\n",
    "# Sample dataset\n",
    "data = pd.DataFrame({'City': ['Paris', 'London', 'Paris', 'Berlin', 'London', 'Paris']})\n",
    "\n",
    "# Calculate the frequency of each city\n",
    "frequency_encoding = data['City'].value_counts()\n",
    "\n",
    "# Map the frequency to the City column\n",
    "data['City_Encoded'] = data['City'].map(frequency_encoding)\n",
    "print(data)"
   ]
  },
  {
   "cell_type": "markdown",
   "metadata": {},
   "source": [
    "#### Pros:\n",
    "Simple and efficient, and works well with high-cardinality features.\n",
    "\n",
    "#### Cons:\n",
    "Assumes that frequency of occurrence holds predictive power, which might not always be true."
   ]
  },
  {
   "cell_type": "markdown",
   "metadata": {},
   "source": [
    "## 6. Binary Encoding\n",
    "Binary encoding is a combination of label encoding and binary transformation. It first assigns a label to each category and then converts the integer label into its binary representation. This method is effective for reducing dimensionality with high-cardinality features.\n",
    "\n",
    "#### Python Example:"
   ]
  },
  {
   "cell_type": "code",
   "execution_count": null,
   "metadata": {},
   "outputs": [],
   "source": [
    "import pandas as pd\n",
    "from category_encoders import BinaryEncoder\n",
    "\n",
    "# Sample dataset\n",
    "data = pd.DataFrame({'City': ['Paris', 'London', 'Berlin', 'New York', 'Paris']})\n",
    "\n",
    "# Create an instance of BinaryEncoder\n",
    "binary_encoder = BinaryEncoder()\n",
    "\n",
    "# Fit and transform the data\n",
    "encoded_data = binary_encoder.fit_transform(data['City'])\n",
    "print(encoded_data)"
   ]
  },
  {
   "cell_type": "markdown",
   "metadata": {},
   "source": [
    "#### Pros:\n",
    "Reduces dimensionality compared to one-hot encoding.\n",
    "Works well with high-cardinality features.\n",
    "\n",
    "#### Cons:\n",
    "Less interpretable than one-hot encoding, as it generates binary columns."
   ]
  },
  {
   "cell_type": "markdown",
   "metadata": {},
   "source": [
    "## 7. Hash Encoding (Hashing Trick)\n",
    "Hash encoding uses a hashing function to assign categories to a fixed number of columns. It’s a memory-efficient technique for handling high-cardinality categorical features.\n",
    "\n",
    "#### Python Example:"
   ]
  },
  {
   "cell_type": "code",
   "execution_count": null,
   "metadata": {},
   "outputs": [],
   "source": [
    "import pandas as pd\n",
    "from sklearn.feature_extraction import FeatureHasher\n",
    "\n",
    "# Sample dataset\n",
    "data = pd.DataFrame({'City': ['Paris', 'London', 'Berlin', 'New York', 'Paris']})\n",
    "\n",
    "# Create an instance of FeatureHasher\n",
    "hasher = FeatureHasher(n_features=4, input_type='string')\n",
    "\n",
    "# Transform the data\n",
    "encoded_data = hasher.transform(data['City'])\n",
    "print(encoded_data.toarray())"
   ]
  },
  {
   "cell_type": "markdown",
   "metadata": {},
   "source": [
    "#### Pros:\n",
    "Reduces memory usage and handles high-cardinality features efficiently.\n",
    "Can be implemented without knowing all possible categories in advance.\n",
    "\n",
    "#### Cons:\n",
    "Hash collisions might occur, leading to a loss of information."
   ]
  },
  {
   "cell_type": "markdown",
   "metadata": {},
   "source": [
    "## Choosing the Right Encoding Technique\n",
    "- Nominal Data (No Order): One-hot encoding, frequency encoding, or hash encoding.\n",
    "- Ordinal Data (Has Order): Ordinal encoding or label encoding.\n",
    "- High-Cardinality Features: Target encoding, frequency encoding, binary encoding, or hash encoding.\n",
    "\n",
    "The choice of encoding depends on the data’s characteristics, the algorithm you are using, and the specific problem you’re solving."
   ]
  }
 ],
 "metadata": {
  "kernelspec": {
   "display_name": "Python 3",
   "language": "python",
   "name": "python3"
  },
  "language_info": {
   "name": "python",
   "version": "3.12.7"
  }
 },
 "nbformat": 4,
 "nbformat_minor": 2
}
