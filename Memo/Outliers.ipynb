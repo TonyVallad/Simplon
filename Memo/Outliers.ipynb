{
 "cells": [
  {
   "cell_type": "markdown",
   "metadata": {},
   "source": [
    "### **<h1 align=\"center\">Outliers</h1>**"
   ]
  },
  {
   "cell_type": "markdown",
   "metadata": {},
   "source": [
    "Outliers are data points that differ significantly from the majority of the data. They can skew your analysis and affect machine learning models, leading to inaccurate predictions and insights. Therefore, understanding how to detect and handle outliers is crucial.\n",
    "\n",
    "### **Types of Outliers**\n",
    "1. **Univariate Outliers**: Outliers that occur within a single feature. For example, if a feature representing age has values mostly between 20 and 40, a value of 100 would be an outlier.\n",
    "2. **Multivariate Outliers**: These are outliers that are only apparent when considering relationships between two or more features. For instance, an unusually high weight for a given height in a dataset of people.\n",
    "\n",
    "### **Causes of Outliers**\n",
    "- **Measurement errors**: Incorrect data entry, sensor malfunction, or noise in data collection.\n",
    "- **Natural variation**: Genuine extreme values in real-world scenarios.\n",
    "- **Data processing errors**: Issues that arise due to improper data handling or merging.\n",
    "\n",
    "### **Impact of Outliers**\n",
    "Outliers can impact the mean and standard deviation, affect model training, and lead to poor model performance. For instance:\n",
    "- In linear regression, outliers can shift the regression line significantly.\n",
    "- Clustering algorithms may assign incorrect clusters due to extreme values.\n",
    "  \n",
    "### **Detecting Outliers**\n",
    "1. **Visual Methods**:\n",
    "   - **Boxplots**: Visualize the distribution of data with quartiles. Points outside the whiskers are considered potential outliers.\n",
    "   - **Scatter plots**: Help in detecting outliers in multivariate data.\n",
    "   - **Histograms**: Identify extreme values in the distribution.\n",
    "\n",
    "2. **Statistical Methods**:\n",
    "   - **Z-Score Method**: Calculates the standard score of a value relative to the mean and standard deviation. A common threshold is ±3.\n",
    "   - **IQR (Interquartile Range)**: Measures the spread of the middle 50% of the data. Any data point below \\( Q1 - 1.5 \\times \\text{IQR} \\) or above \\( Q3 + 1.5 \\times \\text{IQR} \\) is considered an outlier.\n",
    "\n",
    "     \\[\n",
    "     \\text{IQR} = Q3 - Q1\n",
    "     \\]\n",
    "\n",
    "3. **Machine Learning-Based Detection**:\n",
    "   - **Isolation Forest**: A tree-based algorithm designed specifically for outlier detection. It isolates observations by randomly selecting features and splitting the data.\n",
    "   - **DBSCAN (Density-Based Spatial Clustering of Applications with Noise)**: Identifies points that are isolated from dense clusters as outliers.\n",
    "\n",
    "### **Handling Outliers**\n",
    "1. **Removing Outliers**: If outliers are due to errors or irrelevant, removing them might be the best approach. However, be cautious, as this can lead to loss of valuable data if not handled correctly.\n",
    "\n",
    "2. **Imputing Outliers**: Replace outliers with mean/median values or other estimates. This is useful if the outliers are errors or if they only slightly affect the dataset.\n",
    "\n",
    "3. **Transformation Techniques**:\n",
    "   - **Logarithmic Transformation**: Applies a log function to compress the range of data, reducing the impact of large outliers.\n",
    "   - **Square Root or Box-Cox Transformations**: Useful for dealing with skewed data and reducing the influence of outliers.\n",
    "\n",
    "4. **Clipping/Capping**: Set upper and lower limits for values in the data. This method is used when you know the domain-specific limits of valid values.\n",
    "\n",
    "   ```python\n",
    "   import numpy as np\n",
    "   import pandas as pd\n",
    "\n",
    "   # Example of capping\n",
    "   df['column'] = np.where(df['column'] > upper_limit, upper_limit, df['column'])\n",
    "   df['column'] = np.where(df['column'] < lower_limit, lower_limit, df['column'])\n",
    "   ```\n",
    "\n",
    "5. **Using Robust Algorithms**: Some machine learning models like robust regression or tree-based algorithms (e.g., Decision Trees, Random Forest) are less sensitive to outliers.\n",
    "\n",
    "### **When to Keep Outliers?**\n",
    "Sometimes, outliers are genuine and provide valuable insights, especially in fields like finance, fraud detection, and medical diagnostics. In these cases, the goal is not to eliminate outliers but to model them correctly. For example, in credit card fraud detection, outliers could signify fraudulent transactions.\n",
    "\n",
    "### **Key Takeaways**:\n",
    "- **Identify**: Use visual and statistical methods to find outliers.\n",
    "- **Understand**: Analyze why the outliers exist — are they errors or natural occurrences?\n",
    "- **Handle with Context**: Depending on the nature of the data and the model’s requirements, choose to remove, transform, or retain the outliers."
   ]
  }
 ],
 "metadata": {
  "kernelspec": {
   "display_name": "Python 3",
   "language": "python",
   "name": "python3"
  },
  "language_info": {
   "name": "python",
   "version": "3.12.7"
  }
 },
 "nbformat": 4,
 "nbformat_minor": 2
}
